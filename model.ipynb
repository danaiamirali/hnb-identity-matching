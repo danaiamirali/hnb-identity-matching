{
 "cells": [
  {
   "attachments": {},
   "cell_type": "markdown",
   "metadata": {},
   "source": [
    "# Hierarchical Naive Bayes Model"
   ]
  },
  {
   "attachments": {},
   "cell_type": "markdown",
   "metadata": {},
   "source": [
    "Load the labeled dataset."
   ]
  },
  {
   "cell_type": "code",
   "execution_count": null,
   "metadata": {},
   "outputs": [],
   "source": [
    "import pandas as pd"
   ]
  },
  {
   "cell_type": "code",
   "execution_count": null,
   "metadata": {},
   "outputs": [],
   "source": [
    "# Load labeled dataset\n",
    "df = pd.read_csv('data/labeledident.csv')"
   ]
  },
  {
   "cell_type": "code",
   "execution_count": null,
   "metadata": {},
   "outputs": [],
   "source": [
    "from pgmpy.models import BayesianModel\n",
    "from pgmpy.estimators import MaximumLikelihoodEstimator, BayesianEstimator"
   ]
  },
  {
   "cell_type": "code",
   "execution_count": null,
   "metadata": {},
   "outputs": [],
   "source": [
    "# Create the Hierarchical Naive Bayes model\n",
    "model = BayesianModel()"
   ]
  },
  {
   "cell_type": "code",
   "execution_count": null,
   "metadata": {},
   "outputs": [],
   "source": [
    "level1 = ['Identity Match']\n",
    "level2 = ['Name Match', 'DOB Match', 'Address Match', 'ID Match']\n",
    "level3 = ['First Name Match', 'Middle Name Match', 'Last Name Match', 'DOB Similarity', 'Address Similarity', 'ID Similarity']\n",
    "level4 = ['First Name Similarity', 'Middle Name Similarity', 'Last Name Similarity']\n",
    "\n",
    "# Add Nodes\n",
    "model.add_nodes_from(level1)\n",
    "model.add_nodes_from(level2)\n",
    "model.add_nodes_from(level3)\n",
    "model.add_nodes_from(level4)\n",
    "\n",
    "# Add edges in most confusing way possible\n",
    "\n",
    "# Connect level1 with level2\n",
    "pairs = []\n",
    "for val in level2:\n",
    "    pairs.append(level1[0], val)\n",
    "model.add_edges_from(pairs)\n",
    "\n",
    "# Connect Name Match\n",
    "pairs.clear()\n",
    "for val in level3[0:3]:\n",
    "    pairs.append(level2[0], val)\n",
    "model.add_edges_from(pairs)\n",
    "\n",
    "# Connect DOB, Address, and ID Match with Similarity\n",
    "pairs.clear()\n",
    "for i in range(1, 4):\n",
    "    pairs.append(level2[i], level3[i + 2])\n",
    "model.add_edges_from(pairs)\n",
    "\n",
    "# Connect Name Matches with Similarity\n",
    "pairs.clear()\n",
    "for i in range(3):\n",
    "    pairs.append(level3[i], level4[i])\n",
    "model.add_edges_from(pairs)"
   ]
  },
  {
   "cell_type": "code",
   "execution_count": null,
   "metadata": {},
   "outputs": [],
   "source": [
    "# Estimate CPDs using Maximum Likelihood Estimation (MLE)\n",
    "estimator = MaximumLikelihoodEstimator(model, data)"
   ]
  },
  {
   "cell_type": "code",
   "execution_count": null,
   "metadata": {},
   "outputs": [],
   "source": [
    "# Fit the model to the data\n",
    "model.fit(data, estimator=estimator)"
   ]
  },
  {
   "cell_type": "code",
   "execution_count": null,
   "metadata": {},
   "outputs": [],
   "source": [
    "# Predict using the trained model\n",
    "# Assuming you have a test DataFrame 'test_data' with columns 'A', 'B', 'C', 'D', 'E'\n",
    "predictions = model.predict(test_data)"
   ]
  }
 ],
 "metadata": {
  "kernelspec": {
   "display_name": "Python 3",
   "language": "python",
   "name": "python3"
  },
  "language_info": {
   "codemirror_mode": {
    "name": "ipython",
    "version": 3
   },
   "file_extension": ".py",
   "mimetype": "text/x-python",
   "name": "python",
   "nbconvert_exporter": "python",
   "pygments_lexer": "ipython3",
   "version": "3.10.11"
  },
  "orig_nbformat": 4
 },
 "nbformat": 4,
 "nbformat_minor": 2
}
