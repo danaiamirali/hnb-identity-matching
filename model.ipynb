{
 "cells": [
  {
   "attachments": {},
   "cell_type": "markdown",
   "metadata": {},
   "source": [
    "# Hierarchical Naive Bayes Model"
   ]
  },
  {
   "cell_type": "code",
   "execution_count": 1,
   "metadata": {},
   "outputs": [],
   "source": [
    "from pgmpy.models import BayesianNetwork\n",
    "from pgmpy.estimators import ExpectationMaximization\n",
    "import pandas as pd\n",
    "import random"
   ]
  },
  {
   "cell_type": "code",
   "execution_count": 8,
   "metadata": {},
   "outputs": [],
   "source": [
    "# Create the Hierarchical Naive Bayes model with latent structure\n",
    "model = BayesianNetwork(\n",
    "    ebunch=[\n",
    "        ('Identity Match', 'Name Match'),\n",
    "        ('Identity Match', 'DOB Match'),\n",
    "        ('Identity Match', 'Address Match'),\n",
    "        ('Identity Match', 'ID Match'),\n",
    "        ('Name Match', 'First Name Match'),\n",
    "        ('Name Match', 'Middle Name Match'),\n",
    "        ('Name Match', 'Last Name Match'),\n",
    "        ('DOB Match', 'Date of Birth Similarity'),\n",
    "        ('Address Match', 'Address Similarity'),\n",
    "        ('ID Match', 'ID Similarity'),\n",
    "        ('First Name Match', 'First Name Similarity'),\n",
    "        ('Middle Name Match', 'Middle Name Similarity'),\n",
    "        ('Last Name Match', 'Last Name Similarity')\n",
    "    ],\n",
    "    latents=['Name Match', 'DOB Match', 'Address Match', 'ID Match', 'First Name Match', 'Middle Name Match', 'Last Name Match']\n",
    ")"
   ]
  },
  {
   "cell_type": "code",
   "execution_count": 20,
   "metadata": {},
   "outputs": [
    {
     "data": {
      "text/html": [
       "<div>\n",
       "<style scoped>\n",
       "    .dataframe tbody tr th:only-of-type {\n",
       "        vertical-align: middle;\n",
       "    }\n",
       "\n",
       "    .dataframe tbody tr th {\n",
       "        vertical-align: top;\n",
       "    }\n",
       "\n",
       "    .dataframe thead th {\n",
       "        text-align: right;\n",
       "    }\n",
       "</style>\n",
       "<table border=\"1\" class=\"dataframe\">\n",
       "  <thead>\n",
       "    <tr style=\"text-align: right;\">\n",
       "      <th></th>\n",
       "      <th>Identity Match</th>\n",
       "      <th>Date of Birth Similarity</th>\n",
       "      <th>Address Similarity</th>\n",
       "      <th>ID Similarity</th>\n",
       "      <th>First Name Similarity</th>\n",
       "      <th>Middle Name Similarity</th>\n",
       "      <th>Last Name Similarity</th>\n",
       "    </tr>\n",
       "  </thead>\n",
       "  <tbody>\n",
       "    <tr>\n",
       "      <th>0</th>\n",
       "      <td>1</td>\n",
       "      <td>3.0</td>\n",
       "      <td>342.0</td>\n",
       "      <td>1.0</td>\n",
       "      <td>6.0</td>\n",
       "      <td>25.0</td>\n",
       "      <td>12.0</td>\n",
       "    </tr>\n",
       "    <tr>\n",
       "      <th>1</th>\n",
       "      <td>1</td>\n",
       "      <td>3.0</td>\n",
       "      <td>235.0</td>\n",
       "      <td>0.0</td>\n",
       "      <td>15.0</td>\n",
       "      <td>0.0</td>\n",
       "      <td>14.0</td>\n",
       "    </tr>\n",
       "    <tr>\n",
       "      <th>2</th>\n",
       "      <td>0</td>\n",
       "      <td>0.0</td>\n",
       "      <td>16.0</td>\n",
       "      <td>0.0</td>\n",
       "      <td>0.0</td>\n",
       "      <td>25.0</td>\n",
       "      <td>0.0</td>\n",
       "    </tr>\n",
       "    <tr>\n",
       "      <th>3</th>\n",
       "      <td>0</td>\n",
       "      <td>2.0</td>\n",
       "      <td>222.0</td>\n",
       "      <td>2.0</td>\n",
       "      <td>15.0</td>\n",
       "      <td>0.0</td>\n",
       "      <td>12.0</td>\n",
       "    </tr>\n",
       "    <tr>\n",
       "      <th>4</th>\n",
       "      <td>0</td>\n",
       "      <td>2.0</td>\n",
       "      <td>67.0</td>\n",
       "      <td>4.0</td>\n",
       "      <td>19.0</td>\n",
       "      <td>25.0</td>\n",
       "      <td>0.0</td>\n",
       "    </tr>\n",
       "  </tbody>\n",
       "</table>\n",
       "</div>"
      ],
      "text/plain": [
       "   Identity Match  Date of Birth Similarity  Address Similarity  \\\n",
       "0               1                       3.0               342.0   \n",
       "1               1                       3.0               235.0   \n",
       "2               0                       0.0                16.0   \n",
       "3               0                       2.0               222.0   \n",
       "4               0                       2.0                67.0   \n",
       "\n",
       "   ID Similarity  First Name Similarity  Middle Name Similarity  \\\n",
       "0            1.0                    6.0                    25.0   \n",
       "1            0.0                   15.0                     0.0   \n",
       "2            0.0                    0.0                    25.0   \n",
       "3            2.0                   15.0                     0.0   \n",
       "4            4.0                   19.0                    25.0   \n",
       "\n",
       "   Last Name Similarity  \n",
       "0                  12.0  \n",
       "1                  14.0  \n",
       "2                   0.0  \n",
       "3                  12.0  \n",
       "4                   0.0  "
      ]
     },
     "execution_count": 20,
     "metadata": {},
     "output_type": "execute_result"
    }
   ],
   "source": [
    "# Load training data from csv\n",
    "sampled_data = pd.read_csv('data/sampleunlabeledident.csv')\n",
    "\n",
    "# E Step for the Unsupervised Learning: Adds an Identity Match column and assigns either 0 or 1 to each row\n",
    "sampled_data['Identity Match'] = sampled_data.apply(lambda row: random.randint(0, 1), axis=1)\n",
    "\n",
    "sampled_data = sampled_data.loc[:,['Identity Match','Date of Birth Similarity','Address Similarity','ID Similarity','First Name Similarity','Middle Name Similarity','Last Name Similarity',]]\n",
    "sampled_data.head()"
   ]
  },
  {
   "cell_type": "code",
   "execution_count": 26,
   "metadata": {},
   "outputs": [
    {
     "data": {
      "text/plain": [
       "Index(['Identity Match', 'Date of Birth Similarity', 'Address Similarity',\n",
       "       'ID Similarity', 'First Name Similarity', 'Middle Name Similarity',\n",
       "       'Last Name Similarity'],\n",
       "      dtype='object')"
      ]
     },
     "execution_count": 26,
     "metadata": {},
     "output_type": "execute_result"
    }
   ],
   "source": [
    "sampled_data.columns"
   ]
  },
  {
   "cell_type": "code",
   "execution_count": 15,
   "metadata": {},
   "outputs": [
    {
     "data": {
      "text/plain": [
       "['Date Of Birth Similarity',\n",
       " 'Address Similarity',\n",
       " 'ID Similarity',\n",
       " 'First Name Similarity',\n",
       " 'Middle Name Similarity',\n",
       " 'Last Name Similarity']"
      ]
     },
     "execution_count": 15,
     "metadata": {},
     "output_type": "execute_result"
    }
   ],
   "source": [
    "model.get_leaves()"
   ]
  },
  {
   "cell_type": "code",
   "execution_count": 13,
   "metadata": {},
   "outputs": [
    {
     "ename": "ValueError",
     "evalue": "variable names of the model must be identical to column names in data",
     "output_type": "error",
     "traceback": [
      "\u001b[0;31m---------------------------------------------------------------------------\u001b[0m",
      "\u001b[0;31mValueError\u001b[0m                                Traceback (most recent call last)",
      "Cell \u001b[0;32mIn[13], line 2\u001b[0m\n\u001b[1;32m      1\u001b[0m \u001b[39m# Fit the model\u001b[39;00m\n\u001b[0;32m----> 2\u001b[0m model\u001b[39m.\u001b[39;49mfit(sampled_data, estimator\u001b[39m=\u001b[39;49mExpectationMaximization)\n",
      "File \u001b[0;32m~/anaconda3/envs/iden/lib/python3.11/site-packages/pgmpy/models/BayesianNetwork.py:580\u001b[0m, in \u001b[0;36mBayesianNetwork.fit\u001b[0;34m(self, data, estimator, state_names, complete_samples_only, n_jobs, **kwargs)\u001b[0m\n\u001b[1;32m    577\u001b[0m     \u001b[39mif\u001b[39;00m \u001b[39mnot\u001b[39;00m \u001b[39missubclass\u001b[39m(estimator, BaseEstimator):\n\u001b[1;32m    578\u001b[0m         \u001b[39mraise\u001b[39;00m \u001b[39mTypeError\u001b[39;00m(\u001b[39m\"\u001b[39m\u001b[39mEstimator object should be a valid pgmpy estimator.\u001b[39m\u001b[39m\"\u001b[39m)\n\u001b[0;32m--> 580\u001b[0m _estimator \u001b[39m=\u001b[39m estimator(\n\u001b[1;32m    581\u001b[0m     \u001b[39mself\u001b[39;49m,\n\u001b[1;32m    582\u001b[0m     data,\n\u001b[1;32m    583\u001b[0m     state_names\u001b[39m=\u001b[39;49mstate_names,\n\u001b[1;32m    584\u001b[0m     complete_samples_only\u001b[39m=\u001b[39;49mcomplete_samples_only,\n\u001b[1;32m    585\u001b[0m )\n\u001b[1;32m    586\u001b[0m cpds_list \u001b[39m=\u001b[39m _estimator\u001b[39m.\u001b[39mget_parameters(n_jobs\u001b[39m=\u001b[39mn_jobs, \u001b[39m*\u001b[39m\u001b[39m*\u001b[39mkwargs)\n\u001b[1;32m    587\u001b[0m \u001b[39mself\u001b[39m\u001b[39m.\u001b[39madd_cpds(\u001b[39m*\u001b[39mcpds_list)\n",
      "File \u001b[0;32m~/anaconda3/envs/iden/lib/python3.11/site-packages/pgmpy/estimators/EM.py:64\u001b[0m, in \u001b[0;36mExpectationMaximization.__init__\u001b[0;34m(self, model, data, **kwargs)\u001b[0m\n\u001b[1;32m     59\u001b[0m \u001b[39mif\u001b[39;00m \u001b[39mnot\u001b[39;00m \u001b[39misinstance\u001b[39m(model, BayesianNetwork):\n\u001b[1;32m     60\u001b[0m     \u001b[39mraise\u001b[39;00m \u001b[39mNotImplementedError\u001b[39;00m(\n\u001b[1;32m     61\u001b[0m         \u001b[39m\"\u001b[39m\u001b[39mExpectation Maximization is only implemented for BayesianNetwork\u001b[39m\u001b[39m\"\u001b[39m\n\u001b[1;32m     62\u001b[0m     )\n\u001b[0;32m---> 64\u001b[0m \u001b[39msuper\u001b[39;49m(ExpectationMaximization, \u001b[39mself\u001b[39;49m)\u001b[39m.\u001b[39;49m\u001b[39m__init__\u001b[39;49m(model, data, \u001b[39m*\u001b[39;49m\u001b[39m*\u001b[39;49mkwargs)\n\u001b[1;32m     65\u001b[0m \u001b[39mself\u001b[39m\u001b[39m.\u001b[39mmodel_copy \u001b[39m=\u001b[39m \u001b[39mself\u001b[39m\u001b[39m.\u001b[39mmodel\u001b[39m.\u001b[39mcopy()\n",
      "File \u001b[0;32m~/anaconda3/envs/iden/lib/python3.11/site-packages/pgmpy/estimators/base.py:222\u001b[0m, in \u001b[0;36mParameterEstimator.__init__\u001b[0;34m(self, model, data, **kwargs)\u001b[0m\n\u001b[1;32m    196\u001b[0m \u001b[39m\u001b[39m\u001b[39m\"\"\"\u001b[39;00m\n\u001b[1;32m    197\u001b[0m \u001b[39mBase class for parameter estimators in pgmpy.\u001b[39;00m\n\u001b[1;32m    198\u001b[0m \n\u001b[0;32m   (...)\u001b[0m\n\u001b[1;32m    218\u001b[0m \u001b[39m    This sets the behavior of the `state_count`-method.\u001b[39;00m\n\u001b[1;32m    219\u001b[0m \u001b[39m\"\"\"\u001b[39;00m\n\u001b[1;32m    221\u001b[0m \u001b[39mif\u001b[39;00m \u001b[39mnot\u001b[39;00m (\u001b[39mset\u001b[39m(model\u001b[39m.\u001b[39mnodes()) \u001b[39m-\u001b[39m model\u001b[39m.\u001b[39mlatents) \u001b[39m<\u001b[39m\u001b[39m=\u001b[39m \u001b[39mset\u001b[39m(data\u001b[39m.\u001b[39mcolumns\u001b[39m.\u001b[39mvalues):\n\u001b[0;32m--> 222\u001b[0m     \u001b[39mraise\u001b[39;00m \u001b[39mValueError\u001b[39;00m(\n\u001b[1;32m    223\u001b[0m         \u001b[39m\"\u001b[39m\u001b[39mvariable names of the model must be identical to column names in data\u001b[39m\u001b[39m\"\u001b[39m\n\u001b[1;32m    224\u001b[0m     )\n\u001b[1;32m    225\u001b[0m \u001b[39mself\u001b[39m\u001b[39m.\u001b[39mmodel \u001b[39m=\u001b[39m model\n\u001b[1;32m    227\u001b[0m \u001b[39msuper\u001b[39m(ParameterEstimator, \u001b[39mself\u001b[39m)\u001b[39m.\u001b[39m\u001b[39m__init__\u001b[39m(data, \u001b[39m*\u001b[39m\u001b[39m*\u001b[39mkwargs)\n",
      "\u001b[0;31mValueError\u001b[0m: variable names of the model must be identical to column names in data"
     ]
    }
   ],
   "source": [
    "# Fit the model\n",
    "model.fit(sampled_data, estimator=ExpectationMaximization)"
   ]
  }
 ],
 "metadata": {
  "kernelspec": {
   "display_name": "Python 3",
   "language": "python",
   "name": "python3"
  },
  "language_info": {
   "codemirror_mode": {
    "name": "ipython",
    "version": 3
   },
   "file_extension": ".py",
   "mimetype": "text/x-python",
   "name": "python",
   "nbconvert_exporter": "python",
   "pygments_lexer": "ipython3",
   "version": "3.11.4"
  },
  "orig_nbformat": 4
 },
 "nbformat": 4,
 "nbformat_minor": 2
}
