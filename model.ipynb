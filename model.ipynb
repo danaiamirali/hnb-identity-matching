{
 "cells": [
  {
   "attachments": {},
   "cell_type": "markdown",
   "metadata": {},
   "source": [
    "# Hierarchical Naive Bayes Model"
   ]
  },
  {
   "cell_type": "code",
   "execution_count": 2,
   "metadata": {},
   "outputs": [],
   "source": [
    "import pandas as pd"
   ]
  },
  {
   "attachments": {},
   "cell_type": "markdown",
   "metadata": {},
   "source": [
    "Importing the dataset from the data folder."
   ]
  },
  {
   "cell_type": "code",
   "execution_count": 3,
   "metadata": {},
   "outputs": [
    {
     "data": {
      "text/html": [
       "<div>\n",
       "<style scoped>\n",
       "    .dataframe tbody tr th:only-of-type {\n",
       "        vertical-align: middle;\n",
       "    }\n",
       "\n",
       "    .dataframe tbody tr th {\n",
       "        vertical-align: top;\n",
       "    }\n",
       "\n",
       "    .dataframe thead th {\n",
       "        text-align: right;\n",
       "    }\n",
       "</style>\n",
       "<table border=\"1\" class=\"dataframe\">\n",
       "  <thead>\n",
       "    <tr style=\"text-align: right;\">\n",
       "      <th></th>\n",
       "      <th>ID</th>\n",
       "      <th>Name</th>\n",
       "      <th>Address</th>\n",
       "      <th>Date of Birth</th>\n",
       "    </tr>\n",
       "  </thead>\n",
       "  <tbody>\n",
       "    <tr>\n",
       "      <th>0</th>\n",
       "      <td>787879</td>\n",
       "      <td>Karen Hughes</td>\n",
       "      <td>668 Thompson Square, East Monicaburgh, OR 01361</td>\n",
       "      <td>07-18-1995</td>\n",
       "    </tr>\n",
       "    <tr>\n",
       "      <th>1</th>\n",
       "      <td>442995</td>\n",
       "      <td>Tracy George</td>\n",
       "      <td>013 Watson Prairie, North Mistyton, ME 96068</td>\n",
       "      <td>11-04-1977</td>\n",
       "    </tr>\n",
       "    <tr>\n",
       "      <th>2</th>\n",
       "      <td>865957</td>\n",
       "      <td>Jennifer Patel</td>\n",
       "      <td>5787 Kim Summit Apt. 750, Janeport, MI 55669</td>\n",
       "      <td>04-24-2004</td>\n",
       "    </tr>\n",
       "    <tr>\n",
       "      <th>3</th>\n",
       "      <td>427670</td>\n",
       "      <td>Ashley Williams</td>\n",
       "      <td>32599 Tracy Flat, North Lisamouth, MA 38573</td>\n",
       "      <td>05-26-1951</td>\n",
       "    </tr>\n",
       "    <tr>\n",
       "      <th>4</th>\n",
       "      <td>294077</td>\n",
       "      <td>Christopher Lee</td>\n",
       "      <td>PSC 4163, Box 9402, APO AP 88964</td>\n",
       "      <td>06-18-1941</td>\n",
       "    </tr>\n",
       "  </tbody>\n",
       "</table>\n",
       "</div>"
      ],
      "text/plain": [
       "       ID             Name                                          Address  \\\n",
       "0  787879     Karen Hughes  668 Thompson Square, East Monicaburgh, OR 01361   \n",
       "1  442995     Tracy George     013 Watson Prairie, North Mistyton, ME 96068   \n",
       "2  865957   Jennifer Patel     5787 Kim Summit Apt. 750, Janeport, MI 55669   \n",
       "3  427670  Ashley Williams      32599 Tracy Flat, North Lisamouth, MA 38573   \n",
       "4  294077  Christopher Lee                 PSC 4163, Box 9402, APO AP 88964   \n",
       "\n",
       "  Date of Birth  \n",
       "0    07-18-1995  \n",
       "1    11-04-1977  \n",
       "2    04-24-2004  \n",
       "3    05-26-1951  \n",
       "4    06-18-1941  "
      ]
     },
     "execution_count": 3,
     "metadata": {},
     "output_type": "execute_result"
    }
   ],
   "source": [
    "df = pd.read_csv('data/synthetic_dataset.csv')\n",
    "df.head()"
   ]
  },
  {
   "attachments": {},
   "cell_type": "markdown",
   "metadata": {},
   "source": [
    "## Preprocessing"
   ]
  },
  {
   "attachments": {},
   "cell_type": "markdown",
   "metadata": {},
   "source": [
    "### Cleanup"
   ]
  },
  {
   "cell_type": "code",
   "execution_count": 4,
   "metadata": {},
   "outputs": [],
   "source": [
    "\"\"\"\n",
    "Function to split name into first, middle, and last name\n",
    "\"\"\"\n",
    "def split_name(name):\n",
    "    name = name.split()\n",
    "    first_name = name[0]\n",
    "    last_name = name[-1]\n",
    "    middle_name = \" \".join(name[1:-1])\n",
    "    return first_name, middle_name, last_name"
   ]
  },
  {
   "attachments": {},
   "cell_type": "markdown",
   "metadata": {},
   "source": [
    "The split name function may not be necessary depending on the structure of the data:"
   ]
  },
  {
   "cell_type": "code",
   "execution_count": 5,
   "metadata": {},
   "outputs": [],
   "source": [
    "# If name column exists, split name into first, middle, and last name\n",
    "# If name column does not exist, assume the existence of other columns and do nothing\n",
    "if 'Name' in df.columns:\n",
    "    # Split name into first, middle, and last name\n",
    "    df['First Name'], df['Middle Name'], df['Last Name'] = zip(*df['Name'].map(split_name))\n",
    "\n",
    "    df.drop('Name', axis=1, inplace=True)\n",
    "\n",
    "if 'Middle Name' not in df.columns:\n",
    "    df['Middle Name'] = \"\""
   ]
  },
  {
   "attachments": {},
   "cell_type": "markdown",
   "metadata": {},
   "source": [
    "Now, we need to reorder the columns and sample them to ensure consistency before building our similarity measures."
   ]
  },
  {
   "cell_type": "code",
   "execution_count": 6,
   "metadata": {},
   "outputs": [],
   "source": [
    "# Reorder cols to put name cols in front\n",
    "df = df[['First Name', 'Middle Name', 'Last Name', 'Date of Birth', 'Address', 'ID']]"
   ]
  },
  {
   "cell_type": "code",
   "execution_count": 7,
   "metadata": {},
   "outputs": [
    {
     "data": {
      "text/html": [
       "<div>\n",
       "<style scoped>\n",
       "    .dataframe tbody tr th:only-of-type {\n",
       "        vertical-align: middle;\n",
       "    }\n",
       "\n",
       "    .dataframe tbody tr th {\n",
       "        vertical-align: top;\n",
       "    }\n",
       "\n",
       "    .dataframe thead th {\n",
       "        text-align: right;\n",
       "    }\n",
       "</style>\n",
       "<table border=\"1\" class=\"dataframe\">\n",
       "  <thead>\n",
       "    <tr style=\"text-align: right;\">\n",
       "      <th></th>\n",
       "      <th>First Name</th>\n",
       "      <th>Middle Name</th>\n",
       "      <th>Last Name</th>\n",
       "      <th>Date of Birth</th>\n",
       "      <th>Address</th>\n",
       "      <th>ID</th>\n",
       "    </tr>\n",
       "  </thead>\n",
       "  <tbody>\n",
       "    <tr>\n",
       "      <th>0</th>\n",
       "      <td>Karen</td>\n",
       "      <td></td>\n",
       "      <td>Hughes</td>\n",
       "      <td>07-18-1995</td>\n",
       "      <td>668 Thompson Square, East Monicaburgh, OR 01361</td>\n",
       "      <td>787879</td>\n",
       "    </tr>\n",
       "    <tr>\n",
       "      <th>1</th>\n",
       "      <td>Tracy</td>\n",
       "      <td></td>\n",
       "      <td>George</td>\n",
       "      <td>11-04-1977</td>\n",
       "      <td>013 Watson Prairie, North Mistyton, ME 96068</td>\n",
       "      <td>442995</td>\n",
       "    </tr>\n",
       "    <tr>\n",
       "      <th>2</th>\n",
       "      <td>Jennifer</td>\n",
       "      <td></td>\n",
       "      <td>Patel</td>\n",
       "      <td>04-24-2004</td>\n",
       "      <td>5787 Kim Summit Apt. 750, Janeport, MI 55669</td>\n",
       "      <td>865957</td>\n",
       "    </tr>\n",
       "    <tr>\n",
       "      <th>3</th>\n",
       "      <td>Ashley</td>\n",
       "      <td></td>\n",
       "      <td>Williams</td>\n",
       "      <td>05-26-1951</td>\n",
       "      <td>32599 Tracy Flat, North Lisamouth, MA 38573</td>\n",
       "      <td>427670</td>\n",
       "    </tr>\n",
       "    <tr>\n",
       "      <th>4</th>\n",
       "      <td>Christopher</td>\n",
       "      <td></td>\n",
       "      <td>Lee</td>\n",
       "      <td>06-18-1941</td>\n",
       "      <td>PSC 4163, Box 9402, APO AP 88964</td>\n",
       "      <td>294077</td>\n",
       "    </tr>\n",
       "  </tbody>\n",
       "</table>\n",
       "</div>"
      ],
      "text/plain": [
       "    First Name Middle Name Last Name Date of Birth  \\\n",
       "0        Karen                Hughes    07-18-1995   \n",
       "1        Tracy                George    11-04-1977   \n",
       "2     Jennifer                 Patel    04-24-2004   \n",
       "3       Ashley              Williams    05-26-1951   \n",
       "4  Christopher                   Lee    06-18-1941   \n",
       "\n",
       "                                           Address      ID  \n",
       "0  668 Thompson Square, East Monicaburgh, OR 01361  787879  \n",
       "1     013 Watson Prairie, North Mistyton, ME 96068  442995  \n",
       "2     5787 Kim Summit Apt. 750, Janeport, MI 55669  865957  \n",
       "3      32599 Tracy Flat, North Lisamouth, MA 38573  427670  \n",
       "4                 PSC 4163, Box 9402, APO AP 88964  294077  "
      ]
     },
     "execution_count": 7,
     "metadata": {},
     "output_type": "execute_result"
    }
   ],
   "source": [
    "df.head()"
   ]
  },
  {
   "attachments": {},
   "cell_type": "markdown",
   "metadata": {},
   "source": [
    "Sample 200 records from dataframe."
   ]
  },
  {
   "cell_type": "code",
   "execution_count": 8,
   "metadata": {},
   "outputs": [],
   "source": [
    "# Sample 200 records from df into new df\n",
    "df_sample = df.sample(200)"
   ]
  },
  {
   "cell_type": "code",
   "execution_count": 9,
   "metadata": {},
   "outputs": [
    {
     "data": {
      "text/html": [
       "<div>\n",
       "<style scoped>\n",
       "    .dataframe tbody tr th:only-of-type {\n",
       "        vertical-align: middle;\n",
       "    }\n",
       "\n",
       "    .dataframe tbody tr th {\n",
       "        vertical-align: top;\n",
       "    }\n",
       "\n",
       "    .dataframe thead th {\n",
       "        text-align: right;\n",
       "    }\n",
       "</style>\n",
       "<table border=\"1\" class=\"dataframe\">\n",
       "  <thead>\n",
       "    <tr style=\"text-align: right;\">\n",
       "      <th></th>\n",
       "      <th>First Name</th>\n",
       "      <th>Middle Name</th>\n",
       "      <th>Last Name</th>\n",
       "      <th>Date of Birth</th>\n",
       "      <th>Address</th>\n",
       "      <th>ID</th>\n",
       "    </tr>\n",
       "  </thead>\n",
       "  <tbody>\n",
       "    <tr>\n",
       "      <th>536</th>\n",
       "      <td>Lauren</td>\n",
       "      <td></td>\n",
       "      <td>Carter</td>\n",
       "      <td>05-06-1949</td>\n",
       "      <td>4724 Deanna Via Suite 040, North Matthew, LA 1...</td>\n",
       "      <td>835583</td>\n",
       "    </tr>\n",
       "    <tr>\n",
       "      <th>810</th>\n",
       "      <td>Emily</td>\n",
       "      <td></td>\n",
       "      <td>Hopkins</td>\n",
       "      <td>07-19-1947</td>\n",
       "      <td>1508 Klein Station Suite 178, West Maryville, ...</td>\n",
       "      <td>875713</td>\n",
       "    </tr>\n",
       "    <tr>\n",
       "      <th>900</th>\n",
       "      <td>Kimberly</td>\n",
       "      <td></td>\n",
       "      <td>Miller</td>\n",
       "      <td>10-04-1990</td>\n",
       "      <td>3745 Phillips Common Apt. 170, North Jamieport...</td>\n",
       "      <td>280943</td>\n",
       "    </tr>\n",
       "    <tr>\n",
       "      <th>383</th>\n",
       "      <td>Danielle</td>\n",
       "      <td></td>\n",
       "      <td>Hayes</td>\n",
       "      <td>11-21-1952</td>\n",
       "      <td>724 Sarah Inlet, Joshualand, MN 31128</td>\n",
       "      <td>24446</td>\n",
       "    </tr>\n",
       "    <tr>\n",
       "      <th>606</th>\n",
       "      <td>Stephen</td>\n",
       "      <td></td>\n",
       "      <td>Diaz</td>\n",
       "      <td>07-15-1956</td>\n",
       "      <td>975 Teresa Shores, Riveraberg, NH 81331</td>\n",
       "      <td>136265</td>\n",
       "    </tr>\n",
       "  </tbody>\n",
       "</table>\n",
       "</div>"
      ],
      "text/plain": [
       "    First Name Middle Name Last Name Date of Birth  \\\n",
       "536     Lauren                Carter    05-06-1949   \n",
       "810      Emily               Hopkins    07-19-1947   \n",
       "900   Kimberly                Miller    10-04-1990   \n",
       "383   Danielle                 Hayes    11-21-1952   \n",
       "606    Stephen                  Diaz    07-15-1956   \n",
       "\n",
       "                                               Address      ID  \n",
       "536  4724 Deanna Via Suite 040, North Matthew, LA 1...  835583  \n",
       "810  1508 Klein Station Suite 178, West Maryville, ...  875713  \n",
       "900  3745 Phillips Common Apt. 170, North Jamieport...  280943  \n",
       "383              724 Sarah Inlet, Joshualand, MN 31128   24446  \n",
       "606            975 Teresa Shores, Riveraberg, NH 81331  136265  "
      ]
     },
     "execution_count": 9,
     "metadata": {},
     "output_type": "execute_result"
    }
   ],
   "source": [
    "df_sample.head()"
   ]
  },
  {
   "cell_type": "code",
   "execution_count": 10,
   "metadata": {},
   "outputs": [],
   "source": [
    "# Remove sampled records from df\n",
    "df = df.drop(df_sample.index)"
   ]
  },
  {
   "attachments": {},
   "cell_type": "markdown",
   "metadata": {},
   "source": [
    "### Similarity Measures"
   ]
  },
  {
   "attachments": {},
   "cell_type": "markdown",
   "metadata": {},
   "source": [
    "With a sample df, we can now build a similarity measure df by comparing each record in the sample df with the other records."
   ]
  },
  {
   "cell_type": "code",
   "execution_count": 11,
   "metadata": {},
   "outputs": [],
   "source": [
    "import Levenshtein as lev"
   ]
  },
  {
   "cell_type": "code",
   "execution_count": 12,
   "metadata": {},
   "outputs": [],
   "source": [
    "\"\"\"\n",
    "Returns normalized levenshtein distance between two strings\n",
    "\"\"\"\n",
    "def levenshtein_distance(\n",
    "        s1: str,\n",
    "        s2: str\n",
    ") -> int:\n",
    "    distance = lev.distance(s1, s2)\n",
    "    try:\n",
    "        return 1 - distance / float(max(len(s1), len(s2)))\n",
    "    except ZeroDivisionError:\n",
    "        return 0"
   ]
  },
  {
   "cell_type": "code",
   "execution_count": 14,
   "metadata": {},
   "outputs": [],
   "source": [
    "\"\"\"\n",
    "Returns Levenshtein distance between each field of two rows\n",
    "Assumes following format for rows:\n",
    "    row = pd.Series([First Name, Middle Name, Last Name, DOB, Address, ID])\n",
    "\"\"\"\n",
    "def row_similarity(\n",
    "        row_1: pd.Series, \n",
    "        df_2: pd.DataFrame\n",
    "    ) -> pd.DataFrame:\n",
    "\n",
    "    # Compute similarity measures for each column using Levenshtein distance\n",
    "    first_name_similarity = df_2['First Name'].apply(lambda x : levenshtein_distance(row_1['First Name'], x))\n",
    "    middle_name_similarity = df_2['Middle Name'].apply(lambda x : levenshtein_distance(row_1['Middle Name'], x))\n",
    "    last_name_similarity = df_2['Last Name'].apply(lambda x : levenshtein_distance(row_1['Last Name'], x))\n",
    "    dob_similarity = df_2['Date of Birth'].apply(lambda x : levenshtein_distance(row_1['Date of Birth'], x))\n",
    "    address_similarity = df_2['Address'].apply(lambda x : levenshtein_distance(row_1['Address'], x))\n",
    "    id_similarity = df_2['ID'].apply(lambda x : levenshtein_distance(row_1['ID'], x))\n",
    "\n",
    "    # Return DataFrame with similarity measures\n",
    "    return pd.DataFrame({\n",
    "        'ID1': row_1['ID'],\n",
    "        'ID2': df_2['ID'],\n",
    "        'First Name Similarity': first_name_similarity,\n",
    "        'Middle Name Similarity': middle_name_similarity,\n",
    "        'Last Name Similarity': last_name_similarity,\n",
    "        'Date of Birth Similarity': dob_similarity,\n",
    "        'Address Similarity': address_similarity,\n",
    "        'ID Similarity': id_similarity\n",
    "    })\n"
   ]
  },
  {
   "cell_type": "code",
   "execution_count": 15,
   "metadata": {},
   "outputs": [],
   "source": [
    "\"\"\"\n",
    "Builds similarity measure between records in two df\n",
    "Creates a new df from the two df with the following columns:\n",
    "    - ID1: ID of record in df1\n",
    "    - ID2: ID of record in df2\n",
    "    - First Name Similarity: Normalized levenshtein distance between first names\n",
    "    - Middle Name Similarity: Normalized levenshtein distance between middle names\n",
    "    - Last Name Similarity: Normalized levenshtein distance between last names\n",
    "    - Date of Birth Similarity: Normalized levenshtein distance between dates of birth\n",
    "    - Address Similarity: Normalized levenshtein distance between addresses\n",
    "    - ID Similarity: Normalized levenshtein distance between IDs\n",
    "\"\"\"\n",
    "def build_similarity_df (\n",
    "        df_1: pd.DataFrame,\n",
    "        df_2: pd.DataFrame\n",
    ") -> pd.DataFrame:\n",
    "    new_df = pd.DataFrame(columns=['ID1', \n",
    "                                   'ID2', \n",
    "                                   'First Name Similarity', \n",
    "                                   'Middle Name Similarity', \n",
    "                                   'Last Name Similarity', \n",
    "                                   'Date of Birth Similarity', \n",
    "                                   'Address Similarity', \n",
    "                                   'ID Similarity'])\n",
    "\n",
    "    # Convert ID columns to string\n",
    "    df_1[\"ID\"] = df_1[\"ID\"].astype(str)\n",
    "    df_2[\"ID\"] = df_2[\"ID\"].astype(str)\n",
    "\n",
    "    def apply_row_similarity(row, new_df):\n",
    "        sim = row_similarity(row, df_2)\n",
    "        new_df = pd.concat([new_df, sim], ignore_index=True)\n",
    "        return new_df\n",
    "\n",
    "    # Use vectorization to compute similarity between each row in df_1 and df_2\n",
    "    new_df = df_1.apply(apply_row_similarity, args=(new_df,), axis=1).reset_index(drop=True)\n",
    "\n",
    "    # New df is a series of dfs, so we need to concatenate them\n",
    "    new_df = pd.concat(new_df.to_list(), ignore_index=True)\n",
    "\n",
    "    return new_df"
   ]
  },
  {
   "cell_type": "code",
   "execution_count": 16,
   "metadata": {},
   "outputs": [
    {
     "data": {
      "text/html": [
       "<div>\n",
       "<style scoped>\n",
       "    .dataframe tbody tr th:only-of-type {\n",
       "        vertical-align: middle;\n",
       "    }\n",
       "\n",
       "    .dataframe tbody tr th {\n",
       "        vertical-align: top;\n",
       "    }\n",
       "\n",
       "    .dataframe thead th {\n",
       "        text-align: right;\n",
       "    }\n",
       "</style>\n",
       "<table border=\"1\" class=\"dataframe\">\n",
       "  <thead>\n",
       "    <tr style=\"text-align: right;\">\n",
       "      <th></th>\n",
       "      <th>ID1</th>\n",
       "      <th>ID2</th>\n",
       "      <th>First Name Similarity</th>\n",
       "      <th>Middle Name Similarity</th>\n",
       "      <th>Last Name Similarity</th>\n",
       "      <th>Date of Birth Similarity</th>\n",
       "      <th>Address Similarity</th>\n",
       "      <th>ID Similarity</th>\n",
       "    </tr>\n",
       "  </thead>\n",
       "  <tbody>\n",
       "    <tr>\n",
       "      <th>0</th>\n",
       "      <td>835583</td>\n",
       "      <td>787879</td>\n",
       "      <td>0.666667</td>\n",
       "      <td>0.0</td>\n",
       "      <td>0.166667</td>\n",
       "      <td>0.5</td>\n",
       "      <td>0.20</td>\n",
       "      <td>0.000000</td>\n",
       "    </tr>\n",
       "    <tr>\n",
       "      <th>1</th>\n",
       "      <td>835583</td>\n",
       "      <td>442995</td>\n",
       "      <td>0.000000</td>\n",
       "      <td>0.0</td>\n",
       "      <td>0.166667</td>\n",
       "      <td>0.5</td>\n",
       "      <td>0.34</td>\n",
       "      <td>0.000000</td>\n",
       "    </tr>\n",
       "    <tr>\n",
       "      <th>2</th>\n",
       "      <td>835583</td>\n",
       "      <td>865957</td>\n",
       "      <td>0.125000</td>\n",
       "      <td>0.0</td>\n",
       "      <td>0.500000</td>\n",
       "      <td>0.3</td>\n",
       "      <td>0.26</td>\n",
       "      <td>0.333333</td>\n",
       "    </tr>\n",
       "    <tr>\n",
       "      <th>3</th>\n",
       "      <td>835583</td>\n",
       "      <td>427670</td>\n",
       "      <td>0.166667</td>\n",
       "      <td>0.0</td>\n",
       "      <td>0.000000</td>\n",
       "      <td>0.7</td>\n",
       "      <td>0.30</td>\n",
       "      <td>0.000000</td>\n",
       "    </tr>\n",
       "    <tr>\n",
       "      <th>4</th>\n",
       "      <td>835583</td>\n",
       "      <td>294077</td>\n",
       "      <td>0.090909</td>\n",
       "      <td>0.0</td>\n",
       "      <td>0.166667</td>\n",
       "      <td>0.6</td>\n",
       "      <td>0.18</td>\n",
       "      <td>0.000000</td>\n",
       "    </tr>\n",
       "  </tbody>\n",
       "</table>\n",
       "</div>"
      ],
      "text/plain": [
       "      ID1     ID2  First Name Similarity  Middle Name Similarity  \\\n",
       "0  835583  787879               0.666667                     0.0   \n",
       "1  835583  442995               0.000000                     0.0   \n",
       "2  835583  865957               0.125000                     0.0   \n",
       "3  835583  427670               0.166667                     0.0   \n",
       "4  835583  294077               0.090909                     0.0   \n",
       "\n",
       "   Last Name Similarity  Date of Birth Similarity  Address Similarity  \\\n",
       "0              0.166667                       0.5                0.20   \n",
       "1              0.166667                       0.5                0.34   \n",
       "2              0.500000                       0.3                0.26   \n",
       "3              0.000000                       0.7                0.30   \n",
       "4              0.166667                       0.6                0.18   \n",
       "\n",
       "   ID Similarity  \n",
       "0       0.000000  \n",
       "1       0.000000  \n",
       "2       0.333333  \n",
       "3       0.000000  \n",
       "4       0.000000  "
      ]
     },
     "execution_count": 16,
     "metadata": {},
     "output_type": "execute_result"
    }
   ],
   "source": [
    "similarity_df = build_similarity_df(df_sample,  df)\n",
    "similarity_df.head()"
   ]
  },
  {
   "attachments": {},
   "cell_type": "markdown",
   "metadata": {},
   "source": [
    "### Discretization"
   ]
  },
  {
   "cell_type": "code",
   "execution_count": 17,
   "metadata": {},
   "outputs": [],
   "source": [
    "#for solving systems of equations\n",
    "import sympy as sp \n",
    "import math"
   ]
  },
  {
   "cell_type": "code",
   "execution_count": 19,
   "metadata": {},
   "outputs": [
    {
     "name": "stdout",
     "output_type": "stream",
     "text": [
      "180000\n"
     ]
    }
   ],
   "source": [
    "\"\"\"\n",
    "    t = # of intervals\n",
    "    s = interval size\n",
    "    n = # of instances in training dataset\n",
    "\n",
    "    s * t = n\n",
    "    s - 30 = t\n",
    "\"\"\"\n",
    "n = len(similarity_df) # rows in training dataset\n",
    "print(n)"
   ]
  },
  {
   "cell_type": "code",
   "execution_count": 21,
   "metadata": {},
   "outputs": [],
   "source": [
    "#function to solve for s and t given n, returns pair {s, t}\n",
    "def interval_size_and_num(n) -> tuple:\n",
    "    s, t = sp.symbols('s t')\n",
    "    equation1 = sp.Eq(s * t, n)\n",
    "    equation2 = sp.Eq(s - 30, t)  \n",
    "    solution = sp.solve((equation1, equation2), (s, t))\n",
    "    s_val = solution[0]\n",
    "    t_val = solution[1] \n",
    "    return s_val, t_val"
   ]
  },
  {
   "cell_type": "code",
   "execution_count": 22,
   "metadata": {},
   "outputs": [
    {
     "name": "stdout",
     "output_type": "stream",
     "text": [
      "439\n",
      "409\n"
     ]
    }
   ],
   "source": [
    "# Calculate s and t\n",
    "s = interval_size_and_num(n)[0][1] * -1\n",
    "t = interval_size_and_num(n)[1][1]\n",
    "\n",
    "num_instances = math.floor(s)\n",
    "num_intervals = math.floor(t)\n",
    "print(num_instances)\n",
    "print(num_intervals)"
   ]
  },
  {
   "cell_type": "code",
   "execution_count": 24,
   "metadata": {},
   "outputs": [],
   "source": [
    "discrete_df = similarity_df\n",
    "\n",
    "remainder = len(similarity_df) % num_intervals\n",
    "\n",
    "# function that replaces similarity measures with discrete values and records bin's range [min, max] for one column\n",
    "def discretize_column(col_name, bin_ranges, discrete_df, remainder, num_instances):\n",
    "    count = 0\n",
    "    bin = 0\n",
    "    discrete_df = discrete_df.sort_values(col_name)\n",
    "    range = [-1, -1]\n",
    "    for index, row in discrete_df.iterrows():\n",
    "        similarity = row[col_name]\n",
    "        row[col_name] = bin\n",
    "        count += 1\n",
    "        if(count == 1):\n",
    "            range[0] = similarity\n",
    "        if(bin >= remainder):\n",
    "            if(count == num_instances):\n",
    "                bin += 1\n",
    "                count = 0\n",
    "                range[1] = similarity\n",
    "                bin_ranges.append(range)\n",
    "        if(bin < remainder):\n",
    "            if(count == num_instances + 1):\n",
    "                bin += 1\n",
    "                count = 0\n",
    "                range[1] = similarity\n",
    "                bin_ranges.append(range)"
   ]
  },
  {
   "cell_type": "code",
   "execution_count": 25,
   "metadata": {},
   "outputs": [],
   "source": [
    "# bins for each attribute (list of pairs)\n",
    "\n",
    "bin_intervals = {'First Name Similarity' : [],\n",
    "                'Middle Name Similarity' : [],\n",
    "                'Last Name Similarity' : [],\n",
    "                'Date of Birth Similarity' : [],\n",
    "                'Address Similarity' : [],\n",
    "                'ID Similarity' : []\n",
    "                }"
   ]
  },
  {
   "cell_type": "code",
   "execution_count": 26,
   "metadata": {},
   "outputs": [
    {
     "data": {
      "text/html": [
       "<div>\n",
       "<style scoped>\n",
       "    .dataframe tbody tr th:only-of-type {\n",
       "        vertical-align: middle;\n",
       "    }\n",
       "\n",
       "    .dataframe tbody tr th {\n",
       "        vertical-align: top;\n",
       "    }\n",
       "\n",
       "    .dataframe thead th {\n",
       "        text-align: right;\n",
       "    }\n",
       "</style>\n",
       "<table border=\"1\" class=\"dataframe\">\n",
       "  <thead>\n",
       "    <tr style=\"text-align: right;\">\n",
       "      <th></th>\n",
       "      <th>ID1</th>\n",
       "      <th>ID2</th>\n",
       "      <th>First Name Similarity</th>\n",
       "      <th>Middle Name Similarity</th>\n",
       "      <th>Last Name Similarity</th>\n",
       "      <th>Date of Birth Similarity</th>\n",
       "      <th>Address Similarity</th>\n",
       "      <th>ID Similarity</th>\n",
       "    </tr>\n",
       "  </thead>\n",
       "  <tbody>\n",
       "    <tr>\n",
       "      <th>0</th>\n",
       "      <td>835583</td>\n",
       "      <td>787879</td>\n",
       "      <td>0.666667</td>\n",
       "      <td>0.0</td>\n",
       "      <td>0.166667</td>\n",
       "      <td>0.5</td>\n",
       "      <td>0.20</td>\n",
       "      <td>0.000000</td>\n",
       "    </tr>\n",
       "    <tr>\n",
       "      <th>1</th>\n",
       "      <td>835583</td>\n",
       "      <td>442995</td>\n",
       "      <td>0.000000</td>\n",
       "      <td>0.0</td>\n",
       "      <td>0.166667</td>\n",
       "      <td>0.5</td>\n",
       "      <td>0.34</td>\n",
       "      <td>0.000000</td>\n",
       "    </tr>\n",
       "    <tr>\n",
       "      <th>2</th>\n",
       "      <td>835583</td>\n",
       "      <td>865957</td>\n",
       "      <td>0.125000</td>\n",
       "      <td>0.0</td>\n",
       "      <td>0.500000</td>\n",
       "      <td>0.3</td>\n",
       "      <td>0.26</td>\n",
       "      <td>0.333333</td>\n",
       "    </tr>\n",
       "    <tr>\n",
       "      <th>3</th>\n",
       "      <td>835583</td>\n",
       "      <td>427670</td>\n",
       "      <td>0.166667</td>\n",
       "      <td>0.0</td>\n",
       "      <td>0.000000</td>\n",
       "      <td>0.7</td>\n",
       "      <td>0.30</td>\n",
       "      <td>0.000000</td>\n",
       "    </tr>\n",
       "    <tr>\n",
       "      <th>4</th>\n",
       "      <td>835583</td>\n",
       "      <td>294077</td>\n",
       "      <td>0.090909</td>\n",
       "      <td>0.0</td>\n",
       "      <td>0.166667</td>\n",
       "      <td>0.6</td>\n",
       "      <td>0.18</td>\n",
       "      <td>0.000000</td>\n",
       "    </tr>\n",
       "  </tbody>\n",
       "</table>\n",
       "</div>"
      ],
      "text/plain": [
       "      ID1     ID2  First Name Similarity  Middle Name Similarity  \\\n",
       "0  835583  787879               0.666667                     0.0   \n",
       "1  835583  442995               0.000000                     0.0   \n",
       "2  835583  865957               0.125000                     0.0   \n",
       "3  835583  427670               0.166667                     0.0   \n",
       "4  835583  294077               0.090909                     0.0   \n",
       "\n",
       "   Last Name Similarity  Date of Birth Similarity  Address Similarity  \\\n",
       "0              0.166667                       0.5                0.20   \n",
       "1              0.166667                       0.5                0.34   \n",
       "2              0.500000                       0.3                0.26   \n",
       "3              0.000000                       0.7                0.30   \n",
       "4              0.166667                       0.6                0.18   \n",
       "\n",
       "   ID Similarity  \n",
       "0       0.000000  \n",
       "1       0.000000  \n",
       "2       0.333333  \n",
       "3       0.000000  \n",
       "4       0.000000  "
      ]
     },
     "execution_count": 26,
     "metadata": {},
     "output_type": "execute_result"
    }
   ],
   "source": [
    "for column in discrete_df.columns[2:]:\n",
    "    discretize_column(column, bin_intervals[column], discrete_df, remainder, num_instances)\n",
    "\n",
    "discrete_df.head()"
   ]
  },
  {
   "cell_type": "code",
   "execution_count": 27,
   "metadata": {},
   "outputs": [
    {
     "name": "stdout",
     "output_type": "stream",
     "text": [
      "[[1.0, 1.0], [1.0, 1.0], [1.0, 1.0], [1.0, 1.0], [1.0, 1.0], [1.0, 1.0], [1.0, 1.0], [1.0, 1.0], [1.0, 1.0], [1.0, 1.0], [1.0, 1.0], [1.0, 1.0], [1.0, 1.0], [1.0, 1.0], [1.0, 1.0], [1.0, 1.0], [1.0, 1.0], [1.0, 1.0], [1.0, 1.0], [1.0, 1.0], [1.0, 1.0], [1.0, 1.0], [1.0, 1.0], [1.0, 1.0], [1.0, 1.0], [1.0, 1.0], [1.0, 1.0], [1.0, 1.0], [1.0, 1.0], [1.0, 1.0], [1.0, 1.0], [1.0, 1.0], [1.0, 1.0], [1.0, 1.0], [1.0, 1.0], [1.0, 1.0], [1.0, 1.0], [1.0, 1.0], [1.0, 1.0], [1.0, 1.0], [1.0, 1.0], [1.0, 1.0], [1.0, 1.0], [1.0, 1.0], [1.0, 1.0], [1.0, 1.0], [1.0, 1.0], [1.0, 1.0], [1.0, 1.0], [1.0, 1.0], [1.0, 1.0], [1.0, 1.0], [1.0, 1.0], [1.0, 1.0], [1.0, 1.0], [1.0, 1.0], [1.0, 1.0], [1.0, 1.0], [1.0, 1.0], [1.0, 1.0], [1.0, 1.0], [1.0, 1.0], [1.0, 1.0], [1.0, 1.0], [1.0, 1.0], [1.0, 1.0], [1.0, 1.0], [1.0, 1.0], [1.0, 1.0], [1.0, 1.0], [1.0, 1.0], [1.0, 1.0], [1.0, 1.0], [1.0, 1.0], [1.0, 1.0], [1.0, 1.0], [1.0, 1.0], [1.0, 1.0], [1.0, 1.0], [1.0, 1.0], [1.0, 1.0], [1.0, 1.0], [1.0, 1.0], [1.0, 1.0], [1.0, 1.0], [1.0, 1.0], [1.0, 1.0], [1.0, 1.0], [1.0, 1.0], [1.0, 1.0], [1.0, 1.0], [1.0, 1.0], [1.0, 1.0], [1.0, 1.0], [1.0, 1.0], [1.0, 1.0], [1.0, 1.0], [1.0, 1.0], [1.0, 1.0], [1.0, 1.0], [1.0, 1.0], [1.0, 1.0], [1.0, 1.0], [1.0, 1.0], [1.0, 1.0], [1.0, 1.0], [1.0, 1.0], [1.0, 1.0], [1.0, 1.0], [1.0, 1.0], [1.0, 1.0], [1.0, 1.0], [1.0, 1.0], [1.0, 1.0], [1.0, 1.0], [1.0, 1.0], [1.0, 1.0], [1.0, 1.0], [1.0, 1.0], [1.0, 1.0], [1.0, 1.0], [1.0, 1.0], [1.0, 1.0], [1.0, 1.0], [1.0, 1.0], [1.0, 1.0], [1.0, 1.0], [1.0, 1.0], [1.0, 1.0], [1.0, 1.0], [1.0, 1.0], [1.0, 1.0], [1.0, 1.0], [1.0, 1.0], [1.0, 1.0], [1.0, 1.0], [1.0, 1.0], [1.0, 1.0], [1.0, 1.0], [1.0, 1.0], [1.0, 1.0], [1.0, 1.0], [1.0, 1.0], [1.0, 1.0], [1.0, 1.0], [1.0, 1.0], [1.0, 1.0], [1.0, 1.0], [1.0, 1.0], [1.0, 1.0], [1.0, 1.0], [1.0, 1.0], [1.0, 1.0], [1.0, 1.0], [1.0, 1.0], [1.0, 1.0], [1.0, 1.0], [1.0, 1.0], [1.0, 1.0], [1.0, 1.0], [1.0, 1.0], [1.0, 1.0], [1.0, 1.0], [1.0, 1.0], [1.0, 1.0], [1.0, 1.0], [1.0, 1.0], [1.0, 1.0], [1.0, 1.0], [1.0, 1.0], [1.0, 1.0], [1.0, 1.0], [1.0, 1.0], [1.0, 1.0], [1.0, 1.0], [1.0, 1.0], [1.0, 1.0], [1.0, 1.0], [1.0, 1.0], [1.0, 1.0], [1.0, 1.0], [1.0, 1.0], [1.0, 1.0], [1.0, 1.0], [1.0, 1.0], [1.0, 1.0], [1.0, 1.0], [1.0, 1.0], [1.0, 1.0], [1.0, 1.0], [1.0, 1.0], [1.0, 1.0], [1.0, 1.0], [1.0, 1.0], [1.0, 1.0], [1.0, 1.0], [1.0, 1.0], [1.0, 1.0], [1.0, 1.0], [1.0, 1.0], [1.0, 1.0], [1.0, 1.0], [1.0, 1.0], [1.0, 1.0], [1.0, 1.0], [1.0, 1.0], [1.0, 1.0], [1.0, 1.0], [1.0, 1.0], [1.0, 1.0], [1.0, 1.0], [1.0, 1.0], [1.0, 1.0], [1.0, 1.0], [1.0, 1.0], [1.0, 1.0], [1.0, 1.0], [1.0, 1.0], [1.0, 1.0], [1.0, 1.0], [1.0, 1.0], [1.0, 1.0], [1.0, 1.0], [1.0, 1.0], [1.0, 1.0], [1.0, 1.0], [1.0, 1.0], [1.0, 1.0], [1.0, 1.0], [1.0, 1.0], [1.0, 1.0], [1.0, 1.0], [1.0, 1.0], [1.0, 1.0], [1.0, 1.0], [1.0, 1.0], [1.0, 1.0], [1.0, 1.0], [1.0, 1.0], [1.0, 1.0], [1.0, 1.0], [1.0, 1.0], [1.0, 1.0], [1.0, 1.0], [1.0, 1.0], [1.0, 1.0], [1.0, 1.0], [1.0, 1.0], [1.0, 1.0], [1.0, 1.0], [1.0, 1.0], [1.0, 1.0], [1.0, 1.0], [1.0, 1.0], [1.0, 1.0], [1.0, 1.0], [1.0, 1.0], [1.0, 1.0], [1.0, 1.0], [1.0, 1.0], [1.0, 1.0], [1.0, 1.0], [1.0, 1.0], [1.0, 1.0], [1.0, 1.0], [1.0, 1.0], [1.0, 1.0], [1.0, 1.0], [1.0, 1.0], [1.0, 1.0], [1.0, 1.0], [1.0, 1.0], [1.0, 1.0], [1.0, 1.0], [1.0, 1.0], [1.0, 1.0], [1.0, 1.0], [1.0, 1.0], [1.0, 1.0], [1.0, 1.0], [1.0, 1.0], [1.0, 1.0], [1.0, 1.0], [1.0, 1.0], [1.0, 1.0], [1.0, 1.0], [1.0, 1.0], [1.0, 1.0], [1.0, 1.0], [1.0, 1.0], [1.0, 1.0], [1.0, 1.0], [1.0, 1.0], [1.0, 1.0], [1.0, 1.0], [1.0, 1.0], [1.0, 1.0], [1.0, 1.0], [1.0, 1.0], [1.0, 1.0], [1.0, 1.0], [1.0, 1.0], [1.0, 1.0], [1.0, 1.0], [1.0, 1.0], [1.0, 1.0], [1.0, 1.0], [1.0, 1.0], [1.0, 1.0], [1.0, 1.0], [1.0, 1.0], [1.0, 1.0], [1.0, 1.0], [1.0, 1.0], [1.0, 1.0], [1.0, 1.0], [1.0, 1.0], [1.0, 1.0], [1.0, 1.0], [1.0, 1.0], [1.0, 1.0], [1.0, 1.0], [1.0, 1.0], [1.0, 1.0], [1.0, 1.0], [1.0, 1.0], [1.0, 1.0], [1.0, 1.0], [1.0, 1.0], [1.0, 1.0], [1.0, 1.0], [1.0, 1.0], [1.0, 1.0], [1.0, 1.0], [1.0, 1.0], [1.0, 1.0], [1.0, 1.0], [1.0, 1.0], [1.0, 1.0], [1.0, 1.0], [1.0, 1.0], [1.0, 1.0], [1.0, 1.0], [1.0, 1.0], [1.0, 1.0], [1.0, 1.0], [1.0, 1.0], [1.0, 1.0], [1.0, 1.0], [1.0, 1.0], [1.0, 1.0], [1.0, 1.0], [1.0, 1.0], [1.0, 1.0], [1.0, 1.0], [1.0, 1.0], [1.0, 1.0], [1.0, 1.0], [1.0, 1.0], [1.0, 1.0], [1.0, 1.0], [1.0, 1.0], [1.0, 1.0], [1.0, 1.0], [1.0, 1.0], [1.0, 1.0], [1.0, 1.0], [1.0, 1.0], [1.0, 1.0], [1.0, 1.0], [1.0, 1.0], [1.0, 1.0], [1.0, 1.0], [1.0, 1.0], [1.0, 1.0], [1.0, 1.0], [1.0, 1.0], [1.0, 1.0], [1.0, 1.0], [1.0, 1.0], [1.0, 1.0], [1.0, 1.0], [1.0, 1.0], [1.0, 1.0], [1.0, 1.0], [1.0, 1.0], [1.0, 1.0], [1.0, 1.0], [1.0, 1.0], [1.0, 1.0], [1.0, 1.0], [1.0, 1.0], [1.0, 1.0], [1.0, 1.0], [1.0, 1.0], [1.0, 1.0], [1.0, 1.0], [1.0, 1.0], [1.0, 1.0], [1.0, 1.0], [1.0, 1.0], [1.0, 1.0], [1.0, 1.0], [1.0, 1.0], [1.0, 1.0], [1.0, 1.0], [1.0, 1.0], [1.0, 1.0], [1.0, 1.0]]\n",
      "[[0.0, 0.0], [0.0, 0.0], [0.0, 0.0], [0.0, 0.0], [0.0, 0.0], [0.0, 0.0], [0.0, 0.0], [0.0, 0.0], [0.0, 0.0], [0.0, 0.0], [0.0, 0.0], [0.0, 0.0], [0.0, 0.0], [0.0, 0.0], [0.0, 0.0], [0.0, 0.0], [0.0, 0.0], [0.0, 0.0], [0.0, 0.0], [0.0, 0.0], [0.0, 0.0], [0.0, 0.0], [0.0, 0.0], [0.0, 0.0], [0.0, 0.0], [0.0, 0.0], [0.0, 0.0], [0.0, 0.0], [0.0, 0.0], [0.0, 0.0], [0.0, 0.0], [0.0, 0.0], [0.0, 0.0], [0.0, 0.0], [0.0, 0.0], [0.0, 0.0], [0.0, 0.0], [0.0, 0.0], [0.0, 0.0], [0.0, 0.0], [0.0, 0.0], [0.0, 0.0], [0.0, 0.0], [0.0, 0.0], [0.0, 0.0], [0.0, 0.0], [0.0, 0.0], [0.0, 0.0], [0.0, 0.0], [0.0, 0.0], [0.0, 0.0], [0.0, 0.0], [0.0, 0.0], [0.0, 0.0], [0.0, 0.0], [0.0, 0.0], [0.0, 0.0], [0.0, 0.0], [0.0, 0.0], [0.0, 0.0], [0.0, 0.0], [0.0, 0.0], [0.0, 0.0], [0.0, 0.0], [0.0, 0.0], [0.0, 0.0], [0.0, 0.0], [0.0, 0.0], [0.0, 0.0], [0.0, 0.0], [0.0, 0.0], [0.0, 0.0], [0.0, 0.0], [0.0, 0.0], [0.0, 0.0], [0.0, 0.0], [0.0, 0.0], [0.0, 0.0], [0.0, 0.0], [0.0, 0.0], [0.0, 0.0], [0.0, 0.0], [0.0, 0.0], [0.0, 0.0], [0.0, 0.0], [0.0, 0.0], [0.0, 0.0], [0.0, 0.0], [0.0, 0.0], [0.0, 0.0], [0.0, 0.0], [0.0, 0.0], [0.0, 0.0], [0.0, 0.0], [0.0, 0.0], [0.0, 0.0], [0.0, 0.0], [0.0, 0.0], [0.0, 0.0], [0.0, 0.0], [0.0, 0.0], [0.0, 0.0], [0.0, 0.0], [0.0, 0.0], [0.0, 0.0], [0.0, 0.0], [0.0, 0.0], [0.0, 0.0], [0.0, 0.0], [0.0, 0.0], [0.0, 0.0], [0.0, 0.0], [0.0, 0.0], [0.0, 0.0], [0.0, 0.0], [0.0, 0.0], [0.0, 0.0], [0.0, 0.0], [0.0, 0.0], [0.0, 0.0], [0.0, 0.0], [0.0, 0.0], [0.0, 0.0], [0.0, 0.0], [0.0, 0.0], [0.0, 0.0], [0.0, 0.0], [0.0, 0.0], [0.0, 0.0], [0.0, 0.0], [0.0, 0.0], [0.0, 0.0], [0.0, 0.0], [0.0, 0.0], [0.0, 0.0], [0.0, 0.0], [0.0, 0.0], [0.0, 0.0], [0.0, 0.0], [0.0, 0.0], [0.0, 0.0], [0.0, 0.0], [0.0, 0.0], [0.0, 0.0], [0.0, 0.0], [0.0, 0.0], [0.0, 0.0], [0.0, 0.0], [0.0, 0.0], [0.0, 0.0], [0.0, 0.0], [0.0, 0.0], [0.0, 0.0], [0.0, 0.0], [0.0, 0.0], [0.0, 0.0], [0.0, 0.0], [0.0, 0.0], [0.0, 0.0], [0.0, 0.0], [0.0, 0.0], [0.0, 0.0], [0.0, 0.0], [0.0, 0.0], [0.0, 0.0], [0.0, 0.0], [0.0, 0.0], [0.0, 0.0], [0.0, 0.0], [0.0, 0.0], [0.0, 0.0], [0.0, 0.0], [0.0, 0.0], [0.0, 0.0], [0.0, 0.0], [0.0, 0.0], [0.0, 0.0], [0.0, 0.0], [0.0, 0.0], [0.0, 0.0], [0.0, 0.0], [0.0, 0.0], [0.0, 0.0], [0.0, 0.0], [0.0, 0.0], [0.0, 0.0], [0.0, 0.0], [0.0, 0.0], [0.0, 0.0], [0.0, 0.0], [0.0, 0.0], [0.0, 0.0], [0.0, 0.0], [0.0, 0.0], [0.0, 0.0], [0.0, 0.0], [0.0, 0.0], [0.0, 0.0], [0.0, 0.0], [0.0, 0.0], [0.0, 0.0], [0.0, 0.0], [0.0, 0.0], [0.0, 0.0], [0.0, 0.0], [0.0, 0.0], [0.0, 0.0], [0.0, 0.0], [0.0, 0.0], [0.0, 0.0], [0.0, 0.0], [0.0, 0.0], [0.0, 0.0], [0.0, 0.0], [0.0, 0.0], [0.0, 0.0], [0.0, 0.0], [0.0, 0.0], [0.0, 0.0], [0.0, 0.0], [0.0, 0.0], [0.0, 0.0], [0.0, 0.0], [0.0, 0.0], [0.0, 0.0], [0.0, 0.0], [0.0, 0.0], [0.0, 0.0], [0.0, 0.0], [0.0, 0.0], [0.0, 0.0], [0.0, 0.0], [0.0, 0.0], [0.0, 0.0], [0.0, 0.0], [0.0, 0.0], [0.0, 0.0], [0.0, 0.0], [0.0, 0.0], [0.0, 0.0], [0.0, 0.0], [0.0, 0.0], [0.0, 0.0], [0.0, 0.0], [0.0, 0.0], [0.0, 0.0], [0.0, 0.0], [0.0, 0.0], [0.0, 0.0], [0.0, 0.0], [0.0, 0.0], [0.0, 0.0], [0.0, 0.0], [0.0, 0.0], [0.0, 0.0], [0.0, 0.0], [0.0, 0.0], [0.0, 0.0], [0.0, 0.0], [0.0, 0.0], [0.0, 0.0], [0.0, 0.0], [0.0, 0.0], [0.0, 0.0], [0.0, 0.0], [0.0, 0.0], [0.0, 0.0], [0.0, 0.0], [0.0, 0.0], [0.0, 0.0], [0.0, 0.0], [0.0, 0.0], [0.0, 0.0], [0.0, 0.0], [0.0, 0.0], [0.0, 0.0], [0.0, 0.0], [0.0, 0.0], [0.0, 0.0], [0.0, 0.0], [0.0, 0.0], [0.0, 0.0], [0.0, 0.0], [0.0, 0.0], [0.0, 0.0], [0.0, 0.0], [0.0, 0.0], [0.0, 0.0], [0.0, 0.0], [0.0, 0.0], [0.0, 0.0], [0.0, 0.0], [0.0, 0.0], [0.0, 0.0], [0.0, 0.0], [0.0, 0.0], [0.0, 0.0], [0.0, 0.0], [0.0, 0.0], [0.0, 0.0], [0.0, 0.0], [0.0, 0.0], [0.0, 0.0], [0.0, 0.0], [0.0, 0.0], [0.0, 0.0], [0.0, 0.0], [0.0, 0.0], [0.0, 0.0], [0.0, 0.0], [0.0, 0.0], [0.0, 0.0], [0.0, 0.0], [0.0, 0.0], [0.0, 0.0], [0.0, 0.0], [0.0, 0.0], [0.0, 0.0], [0.0, 0.0], [0.0, 0.0], [0.0, 0.0], [0.0, 0.0], [0.0, 0.0], [0.0, 0.0], [0.0, 0.0], [0.0, 0.0], [0.0, 0.0], [0.0, 0.0], [0.0, 0.0], [0.0, 0.0], [0.0, 0.0], [0.0, 0.0], [0.0, 0.0], [0.0, 0.0], [0.0, 0.0], [0.0, 0.0], [0.0, 0.0], [0.0, 0.0], [0.0, 0.0], [0.0, 0.0], [0.0, 0.0], [0.0, 0.0], [0.0, 0.0], [0.0, 0.0], [0.0, 0.0], [0.0, 0.0], [0.0, 0.0], [0.0, 0.0], [0.0, 0.0], [0.0, 0.0], [0.0, 0.0], [0.0, 0.0], [0.0, 0.0], [0.0, 0.0], [0.0, 0.0], [0.0, 0.0], [0.0, 0.0], [0.0, 0.0], [0.0, 0.0], [0.0, 0.0], [0.0, 0.0], [0.0, 0.0], [0.0, 0.0], [0.0, 0.0], [0.0, 0.0], [0.0, 0.0], [0.0, 0.0], [0.0, 0.0], [0.0, 0.0], [0.0, 0.0], [0.0, 0.0], [0.0, 0.0], [0.0, 0.0], [0.0, 0.0], [0.0, 0.0], [0.0, 0.0], [0.0, 0.0], [0.0, 0.0], [0.0, 0.0], [0.0, 0.0], [0.0, 0.0], [0.0, 0.0], [0.0, 0.0], [0.0, 0.0], [0.0, 0.0], [0.0, 0.0], [0.0, 0.0], [0.0, 0.0], [0.0, 0.0], [0.0, 0.0], [0.0, 0.0], [0.0, 0.0], [0.0, 0.0], [0.0, 0.0], [0.0, 0.0], [0.0, 0.0], [0.0, 0.0], [0.0, 0.0], [0.0, 0.0], [0.0, 0.0], [0.0, 0.0], [0.0, 0.0], [0.0, 0.0], [0.0, 0.0], [0.0, 0.0], [0.0, 0.0], [0.0, 0.0], [0.0, 0.0], [0.0, 0.0]]\n",
      "[[1.0, 1.0], [1.0, 1.0], [1.0, 1.0], [1.0, 1.0], [1.0, 1.0], [1.0, 1.0], [1.0, 1.0], [1.0, 1.0], [1.0, 1.0], [1.0, 1.0], [1.0, 1.0], [1.0, 1.0], [1.0, 1.0], [1.0, 1.0], [1.0, 1.0], [1.0, 1.0], [1.0, 1.0], [1.0, 1.0], [1.0, 1.0], [1.0, 1.0], [1.0, 1.0], [1.0, 1.0], [1.0, 1.0], [1.0, 1.0], [1.0, 1.0], [1.0, 1.0], [1.0, 1.0], [1.0, 1.0], [1.0, 1.0], [1.0, 1.0], [1.0, 1.0], [1.0, 1.0], [1.0, 1.0], [1.0, 1.0], [1.0, 1.0], [1.0, 1.0], [1.0, 1.0], [1.0, 1.0], [1.0, 1.0], [1.0, 1.0], [1.0, 1.0], [1.0, 1.0], [1.0, 1.0], [1.0, 1.0], [1.0, 1.0], [1.0, 1.0], [1.0, 1.0], [1.0, 1.0], [1.0, 1.0], [1.0, 1.0], [1.0, 1.0], [1.0, 1.0], [1.0, 1.0], [1.0, 1.0], [1.0, 1.0], [1.0, 1.0], [1.0, 1.0], [1.0, 1.0], [1.0, 1.0], [1.0, 1.0], [1.0, 1.0], [1.0, 1.0], [1.0, 1.0], [1.0, 1.0], [1.0, 1.0], [1.0, 1.0], [1.0, 1.0], [1.0, 1.0], [1.0, 1.0], [1.0, 1.0], [1.0, 1.0], [1.0, 1.0], [1.0, 1.0], [1.0, 1.0], [1.0, 1.0], [1.0, 1.0], [1.0, 1.0], [1.0, 1.0], [1.0, 1.0], [1.0, 1.0], [1.0, 1.0], [1.0, 1.0], [1.0, 1.0], [1.0, 1.0], [1.0, 1.0], [1.0, 1.0], [1.0, 1.0], [1.0, 1.0], [1.0, 1.0], [1.0, 1.0], [1.0, 1.0], [1.0, 1.0], [1.0, 1.0], [1.0, 1.0], [1.0, 1.0], [1.0, 1.0], [1.0, 1.0], [1.0, 1.0], [1.0, 1.0], [1.0, 1.0], [1.0, 1.0], [1.0, 1.0], [1.0, 1.0], [1.0, 1.0], [1.0, 1.0], [1.0, 1.0], [1.0, 1.0], [1.0, 1.0], [1.0, 1.0], [1.0, 1.0], [1.0, 1.0], [1.0, 1.0], [1.0, 1.0], [1.0, 1.0], [1.0, 1.0], [1.0, 1.0], [1.0, 1.0], [1.0, 1.0], [1.0, 1.0], [1.0, 1.0], [1.0, 1.0], [1.0, 1.0], [1.0, 1.0], [1.0, 1.0], [1.0, 1.0], [1.0, 1.0], [1.0, 1.0], [1.0, 1.0], [1.0, 1.0], [1.0, 1.0], [1.0, 1.0], [1.0, 1.0], [1.0, 1.0], [1.0, 1.0], [1.0, 1.0], [1.0, 1.0], [1.0, 1.0], [1.0, 1.0], [1.0, 1.0], [1.0, 1.0], [1.0, 1.0], [1.0, 1.0], [1.0, 1.0], [1.0, 1.0], [1.0, 1.0], [1.0, 1.0], [1.0, 1.0], [1.0, 1.0], [1.0, 1.0], [1.0, 1.0], [1.0, 1.0], [1.0, 1.0], [1.0, 1.0], [1.0, 1.0], [1.0, 1.0], [1.0, 1.0], [1.0, 1.0], [1.0, 1.0], [1.0, 1.0], [1.0, 1.0], [1.0, 1.0], [1.0, 1.0], [1.0, 1.0], [1.0, 1.0], [1.0, 1.0], [1.0, 1.0], [1.0, 1.0], [1.0, 1.0], [1.0, 1.0], [1.0, 1.0], [1.0, 1.0], [1.0, 1.0], [1.0, 1.0], [1.0, 1.0], [1.0, 1.0], [1.0, 1.0], [1.0, 1.0], [1.0, 1.0], [1.0, 1.0], [1.0, 1.0], [1.0, 1.0], [1.0, 1.0], [1.0, 1.0], [1.0, 1.0], [1.0, 1.0], [1.0, 1.0], [1.0, 1.0], [1.0, 1.0], [1.0, 1.0], [1.0, 1.0], [1.0, 1.0], [1.0, 1.0], [1.0, 1.0], [1.0, 1.0], [1.0, 1.0], [1.0, 1.0], [1.0, 1.0], [1.0, 1.0], [1.0, 1.0], [1.0, 1.0], [1.0, 1.0], [1.0, 1.0], [1.0, 1.0], [1.0, 1.0], [1.0, 1.0], [1.0, 1.0], [1.0, 1.0], [1.0, 1.0], [1.0, 1.0], [1.0, 1.0], [1.0, 1.0], [1.0, 1.0], [1.0, 1.0], [1.0, 1.0], [1.0, 1.0], [1.0, 1.0], [1.0, 1.0], [1.0, 1.0], [1.0, 1.0], [1.0, 1.0], [1.0, 1.0], [1.0, 1.0], [1.0, 1.0], [1.0, 1.0], [1.0, 1.0], [1.0, 1.0], [1.0, 1.0], [1.0, 1.0], [1.0, 1.0], [1.0, 1.0], [1.0, 1.0], [1.0, 1.0], [1.0, 1.0], [1.0, 1.0], [1.0, 1.0], [1.0, 1.0], [1.0, 1.0], [1.0, 1.0], [1.0, 1.0], [1.0, 1.0], [1.0, 1.0], [1.0, 1.0], [1.0, 1.0], [1.0, 1.0], [1.0, 1.0], [1.0, 1.0], [1.0, 1.0], [1.0, 1.0], [1.0, 1.0], [1.0, 1.0], [1.0, 1.0], [1.0, 1.0], [1.0, 1.0], [1.0, 1.0], [1.0, 1.0], [1.0, 1.0], [1.0, 1.0], [1.0, 1.0], [1.0, 1.0], [1.0, 1.0], [1.0, 1.0], [1.0, 1.0], [1.0, 1.0], [1.0, 1.0], [1.0, 1.0], [1.0, 1.0], [1.0, 1.0], [1.0, 1.0], [1.0, 1.0], [1.0, 1.0], [1.0, 1.0], [1.0, 1.0], [1.0, 1.0], [1.0, 1.0], [1.0, 1.0], [1.0, 1.0], [1.0, 1.0], [1.0, 1.0], [1.0, 1.0], [1.0, 1.0], [1.0, 1.0], [1.0, 1.0], [1.0, 1.0], [1.0, 1.0], [1.0, 1.0], [1.0, 1.0], [1.0, 1.0], [1.0, 1.0], [1.0, 1.0], [1.0, 1.0], [1.0, 1.0], [1.0, 1.0], [1.0, 1.0], [1.0, 1.0], [1.0, 1.0], [1.0, 1.0], [1.0, 1.0], [1.0, 1.0], [1.0, 1.0], [1.0, 1.0], [1.0, 1.0], [1.0, 1.0], [1.0, 1.0], [1.0, 1.0], [1.0, 1.0], [1.0, 1.0], [1.0, 1.0], [1.0, 1.0], [1.0, 1.0], [1.0, 1.0], [1.0, 1.0], [1.0, 1.0], [1.0, 1.0], [1.0, 1.0], [1.0, 1.0], [1.0, 1.0], [1.0, 1.0], [1.0, 1.0], [1.0, 1.0], [1.0, 1.0], [1.0, 1.0], [1.0, 1.0], [1.0, 1.0], [1.0, 1.0], [1.0, 1.0], [1.0, 1.0], [1.0, 1.0], [1.0, 1.0], [1.0, 1.0], [1.0, 1.0], [1.0, 1.0], [1.0, 1.0], [1.0, 1.0], [1.0, 1.0], [1.0, 1.0], [1.0, 1.0], [1.0, 1.0], [1.0, 1.0], [1.0, 1.0], [1.0, 1.0], [1.0, 1.0], [1.0, 1.0], [1.0, 1.0], [1.0, 1.0], [1.0, 1.0], [1.0, 1.0], [1.0, 1.0], [1.0, 1.0], [1.0, 1.0], [1.0, 1.0], [1.0, 1.0], [1.0, 1.0], [1.0, 1.0], [1.0, 1.0], [1.0, 1.0], [1.0, 1.0], [1.0, 1.0], [1.0, 1.0], [1.0, 1.0], [1.0, 1.0], [1.0, 1.0], [1.0, 1.0], [1.0, 1.0], [1.0, 1.0], [1.0, 1.0], [1.0, 1.0], [1.0, 1.0], [1.0, 1.0], [1.0, 1.0], [1.0, 1.0], [1.0, 1.0], [1.0, 1.0], [1.0, 1.0], [1.0, 1.0], [1.0, 1.0], [1.0, 1.0], [1.0, 1.0], [1.0, 1.0], [1.0, 1.0], [1.0, 1.0], [1.0, 1.0], [1.0, 1.0], [1.0, 1.0], [1.0, 1.0], [1.0, 1.0], [1.0, 1.0], [1.0, 1.0], [1.0, 1.0], [1.0, 1.0], [1.0, 1.0], [1.0, 1.0], [1.0, 1.0], [1.0, 1.0], [1.0, 1.0], [1.0, 1.0], [1.0, 1.0], [1.0, 1.0], [1.0, 1.0], [1.0, 1.0], [1.0, 1.0], [1.0, 1.0], [1.0, 1.0], [1.0, 1.0], [1.0, 1.0], [1.0, 1.0], [1.0, 1.0], [1.0, 1.0], [1.0, 1.0], [1.0, 1.0]]\n",
      "[[0.8, 0.8], [0.8, 0.8], [0.8, 0.8], [0.8, 0.8], [0.8, 0.8], [0.8, 0.8], [0.8, 0.8], [0.8, 0.8], [0.8, 0.8], [0.8, 0.8], [0.8, 0.8], [0.8, 0.8], [0.8, 0.8], [0.8, 0.8], [0.8, 0.8], [0.8, 0.8], [0.8, 0.8], [0.8, 0.8], [0.8, 0.8], [0.8, 0.8], [0.8, 0.8], [0.8, 0.8], [0.8, 0.8], [0.8, 0.8], [0.8, 0.8], [0.8, 0.8], [0.8, 0.8], [0.8, 0.8], [0.8, 0.8], [0.8, 0.8], [0.8, 0.8], [0.8, 0.8], [0.8, 0.8], [0.8, 0.8], [0.8, 0.8], [0.8, 0.8], [0.8, 0.8], [0.8, 0.8], [0.8, 0.8], [0.8, 0.8], [0.8, 0.8], [0.8, 0.8], [0.8, 0.8], [0.8, 0.8], [0.8, 0.8], [0.8, 0.8], [0.8, 0.8], [0.8, 0.8], [0.8, 0.8], [0.8, 0.8], [0.8, 0.8], [0.8, 0.8], [0.8, 0.8], [0.8, 0.8], [0.8, 0.8], [0.8, 0.8], [0.8, 0.8], [0.8, 0.8], [0.8, 0.8], [0.8, 0.8], [0.8, 0.8], [0.8, 0.8], [0.8, 0.8], [0.8, 0.8], [0.8, 0.8], [0.8, 0.8], [0.8, 0.8], [0.8, 0.8], [0.8, 0.8], [0.8, 0.8], [0.8, 0.8], [0.8, 0.8], [0.8, 0.8], [0.8, 0.8], [0.8, 0.8], [0.8, 0.8], [0.8, 0.8], [0.8, 0.8], [0.8, 0.8], [0.8, 0.8], [0.8, 0.8], [0.8, 0.8], [0.8, 0.8], [0.8, 0.8], [0.8, 0.8], [0.8, 0.8], [0.8, 0.8], [0.8, 0.8], [0.8, 0.8], [0.8, 0.8], [0.8, 0.8], [0.8, 0.8], [0.8, 0.8], [0.8, 0.8], [0.8, 0.8], [0.8, 0.8], [0.8, 0.8], [0.8, 0.8], [0.8, 0.8], [0.8, 0.8], [0.8, 0.8], [0.8, 0.8], [0.8, 0.8], [0.8, 0.8], [0.8, 0.8], [0.8, 0.8], [0.8, 0.8], [0.8, 0.8], [0.8, 0.8], [0.8, 0.8], [0.8, 0.8], [0.8, 0.8], [0.8, 0.8], [0.8, 0.8], [0.8, 0.8], [0.8, 0.8], [0.8, 0.8], [0.8, 0.8], [0.8, 0.8], [0.8, 0.8], [0.8, 0.8], [0.8, 0.8], [0.8, 0.8], [0.8, 0.8], [0.8, 0.8], [0.8, 0.8], [0.8, 0.8], [0.8, 0.8], [0.8, 0.8], [0.8, 0.8], [0.8, 0.8], [0.8, 0.8], [0.8, 0.8], [0.8, 0.8], [0.8, 0.8], [0.8, 0.8], [0.8, 0.8], [0.8, 0.8], [0.8, 0.8], [0.8, 0.8], [0.8, 0.8], [0.8, 0.8], [0.8, 0.8], [0.8, 0.8], [0.8, 0.8], [0.8, 0.8], [0.8, 0.8], [0.8, 0.8], [0.8, 0.8], [0.8, 0.8], [0.8, 0.8], [0.8, 0.8], [0.8, 0.8], [0.8, 0.8], [0.8, 0.8], [0.8, 0.8], [0.8, 0.8], [0.8, 0.8], [0.8, 0.8], [0.8, 0.8], [0.8, 0.8], [0.8, 0.8], [0.8, 0.8], [0.8, 0.8], [0.8, 0.8], [0.8, 0.8], [0.8, 0.8], [0.8, 0.8], [0.8, 0.8], [0.8, 0.8], [0.8, 0.8], [0.8, 0.8], [0.8, 0.8], [0.8, 0.8], [0.8, 0.8], [0.8, 0.8], [0.8, 0.8], [0.8, 0.8], [0.8, 0.8], [0.8, 0.8], [0.8, 0.8], [0.8, 0.8], [0.8, 0.8], [0.8, 0.8], [0.8, 0.8], [0.8, 0.8], [0.8, 0.8], [0.8, 0.8], [0.8, 0.8], [0.8, 0.8], [0.8, 0.8], [0.8, 0.8], [0.8, 0.8], [0.8, 0.8], [0.8, 0.8], [0.8, 0.8], [0.8, 0.8], [0.8, 0.8], [0.8, 0.8], [0.8, 0.8], [0.8, 0.8], [0.8, 0.8], [0.8, 0.8], [0.8, 0.8], [0.8, 0.8], [0.8, 0.8], [0.8, 0.8], [0.8, 0.8], [0.8, 0.8], [0.8, 0.8], [0.8, 0.8], [0.8, 0.8], [0.8, 0.8], [0.8, 0.8], [0.8, 0.8], [0.8, 0.8], [0.8, 0.8], [0.8, 0.8], [0.8, 0.8], [0.8, 0.8], [0.8, 0.8], [0.8, 0.8], [0.8, 0.8], [0.8, 0.8], [0.8, 0.8], [0.8, 0.8], [0.8, 0.8], [0.8, 0.8], [0.8, 0.8], [0.8, 0.8], [0.8, 0.8], [0.8, 0.8], [0.8, 0.8], [0.8, 0.8], [0.8, 0.8], [0.8, 0.8], [0.8, 0.8], [0.8, 0.8], [0.8, 0.8], [0.8, 0.8], [0.8, 0.8], [0.8, 0.8], [0.8, 0.8], [0.8, 0.8], [0.8, 0.8], [0.8, 0.8], [0.8, 0.8], [0.8, 0.8], [0.8, 0.8], [0.8, 0.8], [0.8, 0.8], [0.8, 0.8], [0.8, 0.8], [0.8, 0.8], [0.8, 0.8], [0.8, 0.8], [0.8, 0.8], [0.8, 0.8], [0.8, 0.8], [0.8, 0.8], [0.8, 0.8], [0.8, 0.8], [0.8, 0.8], [0.8, 0.8], [0.8, 0.8], [0.8, 0.8], [0.8, 0.8], [0.8, 0.8], [0.8, 0.8], [0.8, 0.8], [0.8, 0.8], [0.8, 0.8], [0.8, 0.8], [0.8, 0.8], [0.8, 0.8], [0.8, 0.8], [0.8, 0.8], [0.8, 0.8], [0.8, 0.8], [0.8, 0.8], [0.8, 0.8], [0.8, 0.8], [0.8, 0.8], [0.8, 0.8], [0.8, 0.8], [0.8, 0.8], [0.8, 0.8], [0.8, 0.8], [0.8, 0.8], [0.8, 0.8], [0.8, 0.8], [0.8, 0.8], [0.8, 0.8], [0.8, 0.8], [0.8, 0.8], [0.8, 0.8], [0.8, 0.8], [0.8, 0.8], [0.8, 0.8], [0.8, 0.8], [0.8, 0.8], [0.8, 0.8], [0.8, 0.8], [0.8, 0.8], [0.8, 0.8], [0.8, 0.8], [0.8, 0.8], [0.8, 0.8], [0.8, 0.8], [0.8, 0.8], [0.8, 0.8], [0.8, 0.8], [0.8, 0.8], [0.8, 0.8], [0.8, 0.8], [0.8, 0.8], [0.8, 0.8], [0.8, 0.8], [0.8, 0.8], [0.8, 0.8], [0.8, 0.8], [0.8, 0.8], [0.8, 0.8], [0.8, 0.8], [0.8, 0.8], [0.8, 0.8], [0.8, 0.8], [0.8, 0.8], [0.8, 0.8], [0.8, 0.8], [0.8, 0.8], [0.8, 0.8], [0.8, 0.8], [0.8, 0.8], [0.8, 0.8], [0.8, 0.8], [0.8, 0.8], [0.8, 0.8], [0.8, 0.8], [0.8, 0.8], [0.8, 0.8], [0.8, 0.8], [0.8, 0.8], [0.8, 0.8], [0.8, 0.8], [0.8, 0.8], [0.8, 0.8], [0.8, 0.8], [0.8, 0.8], [0.8, 0.8], [0.8, 0.8], [0.8, 0.8], [0.8, 0.8], [0.8, 0.8], [0.8, 0.8], [0.8, 0.8], [0.8, 0.8], [0.8, 0.8], [0.8, 0.8], [0.8, 0.8], [0.8, 0.8], [0.8, 0.8], [0.8, 0.8], [0.8, 0.8], [0.8, 0.8], [0.8, 0.8], [0.8, 0.8], [0.8, 0.8], [0.8, 0.8], [0.8, 0.8], [0.8, 0.8], [0.8, 0.8], [0.8, 0.8], [0.8, 0.8], [0.8, 0.8], [0.8, 0.8], [0.8, 0.8], [0.8, 0.8], [0.8, 0.8], [0.8, 0.8], [0.8, 0.8], [0.8, 0.8], [0.8, 0.8], [0.8, 0.8], [0.8, 0.8], [0.8, 0.8], [0.8, 0.8], [0.8, 0.8], [0.8, 0.8], [0.8, 0.8], [0.8, 0.8], [0.8, 0.8], [0.8, 0.8], [0.8, 0.8], [0.8, 0.8], [0.8, 0.8], [0.8, 0.8], [0.8, 0.8], [0.8, 0.8], [0.8, 0.8], [0.8, 0.8], [0.8, 0.8], [0.8, 0.8], [0.8, 0.8], [0.8, 0.8], [0.8, 0.8], [0.8, 0.8], [0.8, 0.8], [0.8, 0.8]]\n",
      "[[0.5625, 0.5625], [0.5625, 0.5625], [0.5625, 0.5625], [0.5625, 0.5625], [0.5625, 0.5625], [0.5625, 0.5625], [0.5625, 0.5625], [0.5625, 0.5625], [0.5625, 0.5625], [0.5625, 0.5625], [0.5625, 0.5625], [0.5625, 0.5625], [0.5625, 0.5625], [0.5625, 0.5625], [0.5625, 0.5625], [0.5625, 0.5625], [0.5625, 0.5625], [0.5625, 0.5625], [0.5625, 0.5625], [0.5625, 0.5625], [0.5625, 0.5625], [0.5625, 0.5625], [0.5625, 0.5625], [0.5625, 0.5625], [0.5625, 0.5625], [0.5625, 0.5625], [0.5625, 0.5625], [0.5625, 0.5625], [0.5625, 0.5625], [0.5625, 0.5625], [0.5625, 0.5625], [0.5625, 0.5625], [0.5625, 0.5625], [0.5625, 0.5625], [0.5625, 0.5625], [0.5625, 0.5625], [0.5625, 0.5625], [0.5625, 0.5625], [0.5625, 0.5625], [0.5625, 0.5625], [0.5625, 0.5625], [0.5625, 0.5625], [0.5625, 0.5625], [0.5625, 0.5625], [0.5625, 0.5625], [0.5625, 0.5625], [0.5625, 0.5625], [0.5625, 0.5625], [0.5625, 0.5625], [0.5625, 0.5625], [0.5625, 0.5625], [0.5625, 0.5625], [0.5625, 0.5625], [0.5625, 0.5625], [0.5625, 0.5625], [0.5625, 0.5625], [0.5625, 0.5625], [0.5625, 0.5625], [0.5625, 0.5625], [0.5625, 0.5625], [0.5625, 0.5625], [0.5625, 0.5625], [0.5625, 0.5625], [0.5625, 0.5625], [0.5625, 0.5625], [0.5625, 0.5625], [0.5625, 0.5625], [0.5625, 0.5625], [0.5625, 0.5625], [0.5625, 0.5625], [0.5625, 0.5625], [0.5625, 0.5625], [0.5625, 0.5625], [0.5625, 0.5625], [0.5625, 0.5625], [0.5625, 0.5625], [0.5625, 0.5625], [0.5625, 0.5625], [0.5625, 0.5625], [0.5625, 0.5625], [0.5625, 0.5625], [0.5625, 0.5625], [0.5625, 0.5625], [0.5625, 0.5625], [0.5625, 0.5625], [0.5625, 0.5625], [0.5625, 0.5625], [0.5625, 0.5625], [0.5625, 0.5625], [0.5625, 0.5625], [0.5625, 0.5625], [0.5625, 0.5625], [0.5625, 0.5625], [0.5625, 0.5625], [0.5625, 0.5625], [0.5625, 0.5625], [0.5625, 0.5625], [0.5625, 0.5625], [0.5625, 0.5625], [0.5625, 0.5625], [0.5625, 0.5625], [0.5625, 0.5625], [0.5625, 0.5625], [0.5625, 0.5625], [0.5625, 0.5625], [0.5625, 0.5625], [0.5625, 0.5625], [0.5625, 0.5625], [0.5625, 0.5625], [0.5625, 0.5625], [0.5625, 0.5625], [0.5625, 0.5625], [0.5625, 0.5625], [0.5625, 0.5625], [0.5625, 0.5625], [0.5625, 0.5625], [0.5625, 0.5625], [0.5625, 0.5625], [0.5625, 0.5625], [0.5625, 0.5625], [0.5625, 0.5625], [0.5625, 0.5625], [0.5625, 0.5625], [0.5625, 0.5625], [0.5625, 0.5625], [0.5625, 0.5625], [0.5625, 0.5625], [0.5625, 0.5625], [0.5625, 0.5625], [0.5625, 0.5625], [0.5625, 0.5625], [0.5625, 0.5625], [0.5625, 0.5625], [0.5625, 0.5625], [0.5625, 0.5625], [0.5625, 0.5625], [0.5625, 0.5625], [0.5625, 0.5625], [0.5625, 0.5625], [0.5625, 0.5625], [0.5625, 0.5625], [0.5625, 0.5625], [0.5625, 0.5625], [0.5625, 0.5625], [0.5625, 0.5625], [0.5625, 0.5625], [0.5625, 0.5625], [0.5625, 0.5625], [0.5625, 0.5625], [0.5625, 0.5625], [0.5625, 0.5625], [0.5625, 0.5625], [0.5625, 0.5625], [0.5625, 0.5625], [0.5625, 0.5625], [0.5625, 0.5625], [0.5625, 0.5625], [0.5625, 0.5625], [0.5625, 0.5625], [0.5625, 0.5625], [0.5625, 0.5625], [0.5625, 0.5625], [0.5625, 0.5625], [0.5625, 0.5625], [0.5625, 0.5625], [0.5625, 0.5625], [0.5625, 0.5625], [0.5625, 0.5625], [0.5625, 0.5625], [0.5625, 0.5625], [0.5625, 0.5625], [0.5625, 0.5625], [0.5625, 0.5625], [0.5625, 0.5625], [0.5625, 0.5625], [0.5625, 0.5625], [0.5625, 0.5625], [0.5625, 0.5625], [0.5625, 0.5625], [0.5625, 0.5625], [0.5625, 0.5625], [0.5625, 0.5625], [0.5625, 0.5625], [0.5625, 0.5625], [0.5625, 0.5625], [0.5625, 0.5625], [0.5625, 0.5625], [0.5625, 0.5625], [0.5625, 0.5625], [0.5625, 0.5625], [0.5625, 0.5625], [0.5625, 0.5625], [0.5625, 0.5625], [0.5625, 0.5625], [0.5625, 0.5625], [0.5625, 0.5625], [0.5625, 0.5625], [0.5625, 0.5625], [0.5625, 0.5625], [0.5625, 0.5625], [0.5625, 0.5625], [0.5625, 0.5625], [0.5625, 0.5625], [0.5625, 0.5625], [0.5625, 0.5625], [0.5625, 0.5625], [0.5625, 0.5625], [0.5625, 0.5625], [0.5625, 0.5625], [0.5625, 0.5625], [0.5625, 0.5625], [0.5625, 0.5625], [0.5625, 0.5625], [0.5625, 0.5625], [0.5625, 0.5625], [0.5625, 0.5625], [0.5625, 0.5625], [0.5625, 0.5625], [0.5625, 0.5625], [0.5625, 0.5625], [0.5625, 0.5625], [0.5625, 0.5625], [0.5625, 0.5625], [0.5625, 0.5625], [0.5625, 0.5625], [0.5625, 0.5625], [0.5625, 0.5625], [0.5625, 0.5625], [0.5625, 0.5625], [0.5625, 0.5625], [0.5625, 0.5625], [0.5625, 0.5625], [0.5625, 0.5625], [0.5625, 0.5625], [0.5625, 0.5625], [0.5625, 0.5625], [0.5625, 0.5625], [0.5625, 0.5625], [0.5625, 0.5625], [0.5625, 0.5625], [0.5625, 0.5625], [0.5625, 0.5625], [0.5625, 0.5625], [0.5625, 0.5625], [0.5625, 0.5625], [0.5625, 0.5625], [0.5625, 0.5625], [0.5625, 0.5625], [0.5625, 0.5625], [0.5625, 0.5625], [0.5625, 0.5625], [0.5625, 0.5625], [0.5625, 0.5625], [0.5625, 0.5625], [0.5625, 0.5625], [0.5625, 0.5625], [0.5625, 0.5625], [0.5625, 0.5625], [0.5625, 0.5625], [0.5625, 0.5625], [0.5625, 0.5625], [0.5625, 0.5625], [0.5625, 0.5625], [0.5625, 0.5625], [0.5625, 0.5625], [0.5625, 0.5625], [0.5625, 0.5625], [0.5625, 0.5625], [0.5625, 0.5625], [0.5625, 0.5625], [0.5625, 0.5625], [0.5625, 0.5625], [0.5625, 0.5625], [0.5625, 0.5625], [0.5625, 0.5625], [0.5625, 0.5625], [0.5625, 0.5625], [0.5625, 0.5625], [0.5625, 0.5625], [0.5625, 0.5625], [0.5625, 0.5625], [0.5625, 0.5625], [0.5625, 0.5625], [0.5625, 0.5625], [0.5625, 0.5625], [0.5625, 0.5625], [0.5625, 0.5625], [0.5625, 0.5625], [0.5625, 0.5625], [0.5625, 0.5625], [0.5625, 0.5625], [0.5625, 0.5625], [0.5625, 0.5625], [0.5625, 0.5625], [0.5625, 0.5625], [0.5625, 0.5625], [0.5625, 0.5625], [0.5625, 0.5625], [0.5625, 0.5625], [0.5625, 0.5625], [0.5625, 0.5625], [0.5625, 0.5625], [0.5625, 0.5625], [0.5625, 0.5625], [0.5625, 0.5625], [0.5625, 0.5625], [0.5625, 0.5625], [0.5625, 0.5625], [0.5625, 0.5625], [0.5625, 0.5625], [0.5625, 0.5625], [0.5625, 0.5625], [0.5625, 0.5625], [0.5625, 0.5625], [0.5625, 0.5625], [0.5625, 0.5625], [0.5625, 0.5625], [0.5625, 0.5625], [0.5625, 0.5625], [0.5625, 0.5625], [0.5625, 0.5625], [0.5625, 0.5625], [0.5625, 0.5625], [0.5625, 0.5625], [0.5625, 0.5625], [0.5625, 0.5625], [0.5625, 0.5625], [0.5625, 0.5625], [0.5625, 0.5625], [0.5625, 0.5625], [0.5625, 0.5625], [0.5625, 0.5625], [0.5625, 0.5625], [0.5625, 0.5625], [0.5625, 0.5625], [0.5625, 0.5625], [0.5625, 0.5625], [0.5625, 0.5625], [0.5625, 0.5625], [0.5625, 0.5625], [0.5625, 0.5625], [0.5625, 0.5625], [0.5625, 0.5625], [0.5625, 0.5625], [0.5625, 0.5625], [0.5625, 0.5625], [0.5625, 0.5625], [0.5625, 0.5625], [0.5625, 0.5625], [0.5625, 0.5625], [0.5625, 0.5625], [0.5625, 0.5625], [0.5625, 0.5625], [0.5625, 0.5625], [0.5625, 0.5625], [0.5625, 0.5625], [0.5625, 0.5625], [0.5625, 0.5625], [0.5625, 0.5625], [0.5625, 0.5625], [0.5625, 0.5625], [0.5625, 0.5625], [0.5625, 0.5625], [0.5625, 0.5625], [0.5625, 0.5625], [0.5625, 0.5625], [0.5625, 0.5625], [0.5625, 0.5625], [0.5625, 0.5625], [0.5625, 0.5625], [0.5625, 0.5625], [0.5625, 0.5625], [0.5625, 0.5625], [0.5625, 0.5625], [0.5625, 0.5625], [0.5625, 0.5625], [0.5625, 0.5625], [0.5625, 0.5625], [0.5625, 0.5625], [0.5625, 0.5625], [0.5625, 0.5625], [0.5625, 0.5625], [0.5625, 0.5625], [0.5625, 0.5625], [0.5625, 0.5625], [0.5625, 0.5625], [0.5625, 0.5625], [0.5625, 0.5625], [0.5625, 0.5625], [0.5625, 0.5625], [0.5625, 0.5625], [0.5625, 0.5625], [0.5625, 0.5625], [0.5625, 0.5625], [0.5625, 0.5625], [0.5625, 0.5625], [0.5625, 0.5625], [0.5625, 0.5625], [0.5625, 0.5625], [0.5625, 0.5625], [0.5625, 0.5625], [0.5625, 0.5625], [0.5625, 0.5625], [0.5625, 0.5625], [0.5625, 0.5625], [0.5625, 0.5625], [0.5625, 0.5625], [0.5625, 0.5625], [0.5625, 0.5625]]\n",
      "[[0.5, 0.5], [0.5, 0.5], [0.5, 0.5], [0.5, 0.5], [0.5, 0.5], [0.5, 0.5], [0.5, 0.5], [0.5, 0.5], [0.5, 0.5], [0.5, 0.5], [0.5, 0.5], [0.5, 0.5], [0.5, 0.5], [0.5, 0.5], [0.5, 0.5], [0.5, 0.5], [0.5, 0.5], [0.5, 0.5], [0.5, 0.5], [0.5, 0.5], [0.5, 0.5], [0.5, 0.5], [0.5, 0.5], [0.5, 0.5], [0.5, 0.5], [0.5, 0.5], [0.5, 0.5], [0.5, 0.5], [0.5, 0.5], [0.5, 0.5], [0.5, 0.5], [0.5, 0.5], [0.5, 0.5], [0.5, 0.5], [0.5, 0.5], [0.5, 0.5], [0.5, 0.5], [0.5, 0.5], [0.5, 0.5], [0.5, 0.5], [0.5, 0.5], [0.5, 0.5], [0.5, 0.5], [0.5, 0.5], [0.5, 0.5], [0.5, 0.5], [0.5, 0.5], [0.5, 0.5], [0.5, 0.5], [0.5, 0.5], [0.5, 0.5], [0.5, 0.5], [0.5, 0.5], [0.5, 0.5], [0.5, 0.5], [0.5, 0.5], [0.5, 0.5], [0.5, 0.5], [0.5, 0.5], [0.5, 0.5], [0.5, 0.5], [0.5, 0.5], [0.5, 0.5], [0.5, 0.5], [0.5, 0.5], [0.5, 0.5], [0.5, 0.5], [0.5, 0.5], [0.5, 0.5], [0.5, 0.5], [0.5, 0.5], [0.5, 0.5], [0.5, 0.5], [0.5, 0.5], [0.5, 0.5], [0.5, 0.5], [0.5, 0.5], [0.5, 0.5], [0.5, 0.5], [0.5, 0.5], [0.5, 0.5], [0.5, 0.5], [0.5, 0.5], [0.5, 0.5], [0.5, 0.5], [0.5, 0.5], [0.5, 0.5], [0.5, 0.5], [0.5, 0.5], [0.5, 0.5], [0.5, 0.5], [0.5, 0.5], [0.5, 0.5], [0.5, 0.5], [0.5, 0.5], [0.5, 0.5], [0.5, 0.5], [0.5, 0.5], [0.5, 0.5], [0.5, 0.5], [0.5, 0.5], [0.5, 0.5], [0.5, 0.5], [0.5, 0.5], [0.5, 0.5], [0.5, 0.5], [0.5, 0.5], [0.5, 0.5], [0.5, 0.5], [0.5, 0.5], [0.5, 0.5], [0.5, 0.5], [0.5, 0.5], [0.5, 0.5], [0.5, 0.5], [0.5, 0.5], [0.5, 0.5], [0.5, 0.5], [0.5, 0.5], [0.5, 0.5], [0.5, 0.5], [0.5, 0.5], [0.5, 0.5], [0.5, 0.5], [0.5, 0.5], [0.5, 0.5], [0.5, 0.5], [0.5, 0.5], [0.5, 0.5], [0.5, 0.5], [0.5, 0.5], [0.5, 0.5], [0.5, 0.5], [0.5, 0.5], [0.5, 0.5], [0.5, 0.5], [0.5, 0.5], [0.5, 0.5], [0.5, 0.5], [0.5, 0.5], [0.5, 0.5], [0.5, 0.5], [0.5, 0.5], [0.5, 0.5], [0.5, 0.5], [0.5, 0.5], [0.5, 0.5], [0.5, 0.5], [0.5, 0.5], [0.5, 0.5], [0.5, 0.5], [0.5, 0.5], [0.5, 0.5], [0.5, 0.5], [0.5, 0.5], [0.5, 0.5], [0.5, 0.5], [0.5, 0.5], [0.5, 0.5], [0.5, 0.5], [0.5, 0.5], [0.5, 0.5], [0.5, 0.5], [0.5, 0.5], [0.5, 0.5], [0.5, 0.5], [0.5, 0.5], [0.5, 0.5], [0.5, 0.5], [0.5, 0.5], [0.5, 0.5], [0.5, 0.5], [0.5, 0.5], [0.5, 0.5], [0.5, 0.5], [0.5, 0.5], [0.5, 0.5], [0.5, 0.5], [0.5, 0.5], [0.5, 0.5], [0.5, 0.5], [0.5, 0.5], [0.5, 0.5], [0.5, 0.5], [0.5, 0.5], [0.5, 0.5], [0.5, 0.5], [0.5, 0.5], [0.5, 0.5], [0.5, 0.5], [0.5, 0.5], [0.5, 0.5], [0.5, 0.5], [0.5, 0.5], [0.5, 0.5], [0.5, 0.5], [0.5, 0.5], [0.5, 0.5], [0.5, 0.5], [0.5, 0.5], [0.5, 0.5], [0.5, 0.5], [0.5, 0.5], [0.5, 0.5], [0.5, 0.5], [0.5, 0.5], [0.5, 0.5], [0.5, 0.5], [0.5, 0.5], [0.5, 0.5], [0.5, 0.5], [0.5, 0.5], [0.5, 0.5], [0.5, 0.5], [0.5, 0.5], [0.5, 0.5], [0.5, 0.5], [0.5, 0.5], [0.5, 0.5], [0.5, 0.5], [0.5, 0.5], [0.5, 0.5], [0.5, 0.5], [0.5, 0.5], [0.5, 0.5], [0.5, 0.5], [0.5, 0.5], [0.5, 0.5], [0.5, 0.5], [0.5, 0.5], [0.5, 0.5], [0.5, 0.5], [0.5, 0.5], [0.5, 0.5], [0.5, 0.5], [0.5, 0.5], [0.5, 0.5], [0.5, 0.5], [0.5, 0.5], [0.5, 0.5], [0.5, 0.5], [0.5, 0.5], [0.5, 0.5], [0.5, 0.5], [0.5, 0.5], [0.5, 0.5], [0.5, 0.5], [0.5, 0.5], [0.5, 0.5], [0.5, 0.5], [0.5, 0.5], [0.5, 0.5], [0.5, 0.5], [0.5, 0.5], [0.5, 0.5], [0.5, 0.5], [0.5, 0.5], [0.5, 0.5], [0.5, 0.5], [0.5, 0.5], [0.5, 0.5], [0.5, 0.5], [0.5, 0.5], [0.5, 0.5], [0.5, 0.5], [0.5, 0.5], [0.5, 0.5], [0.5, 0.5], [0.5, 0.5], [0.5, 0.5], [0.5, 0.5], [0.5, 0.5], [0.5, 0.5], [0.5, 0.5], [0.5, 0.5], [0.5, 0.5], [0.5, 0.5], [0.5, 0.5], [0.5, 0.5], [0.5, 0.5], [0.5, 0.5], [0.5, 0.5], [0.5, 0.5], [0.5, 0.5], [0.5, 0.5], [0.5, 0.5], [0.5, 0.5], [0.5, 0.5], [0.5, 0.5], [0.5, 0.5], [0.5, 0.5], [0.5, 0.5], [0.5, 0.5], [0.5, 0.5], [0.5, 0.5], [0.5, 0.5], [0.5, 0.5], [0.5, 0.5], [0.5, 0.5], [0.5, 0.5], [0.5, 0.5], [0.5, 0.5], [0.5, 0.5], [0.5, 0.5], [0.5, 0.5], [0.5, 0.5], [0.5, 0.5], [0.5, 0.5], [0.5, 0.5], [0.5, 0.5], [0.5, 0.5], [0.5, 0.5], [0.5, 0.5], [0.5, 0.5], [0.5, 0.5], [0.5, 0.5], [0.5, 0.5], [0.5, 0.5], [0.5, 0.5], [0.5, 0.5], [0.5, 0.5], [0.5, 0.5], [0.5, 0.5], [0.5, 0.5], [0.5, 0.5], [0.5, 0.5], [0.5, 0.5], [0.5, 0.5], [0.5, 0.5], [0.5, 0.5], [0.5, 0.5], [0.5, 0.5], [0.5, 0.5], [0.5, 0.5], [0.5, 0.5], [0.5, 0.5], [0.5, 0.5], [0.5, 0.5], [0.5, 0.5], [0.5, 0.5], [0.5, 0.5], [0.5, 0.5], [0.5, 0.5], [0.5, 0.5], [0.5, 0.5], [0.5, 0.5], [0.5, 0.5], [0.5, 0.5], [0.5, 0.5], [0.5, 0.5], [0.5, 0.5], [0.5, 0.5], [0.5, 0.5], [0.5, 0.5], [0.5, 0.5], [0.5, 0.5], [0.5, 0.5], [0.5, 0.5], [0.5, 0.5], [0.5, 0.5], [0.5, 0.5], [0.5, 0.5], [0.5, 0.5], [0.5, 0.5], [0.5, 0.5], [0.5, 0.5], [0.5, 0.5], [0.5, 0.5], [0.5, 0.5], [0.5, 0.5], [0.5, 0.5], [0.5, 0.5], [0.5, 0.5], [0.5, 0.5], [0.5, 0.5], [0.5, 0.5], [0.5, 0.5], [0.5, 0.5], [0.5, 0.5], [0.5, 0.5], [0.5, 0.5], [0.5, 0.5], [0.5, 0.5], [0.5, 0.5], [0.5, 0.5], [0.5, 0.5], [0.5, 0.5], [0.5, 0.5], [0.5, 0.5], [0.5, 0.5], [0.5, 0.5], [0.5, 0.5], [0.5, 0.5], [0.5, 0.5], [0.5, 0.5], [0.5, 0.5], [0.5, 0.5], [0.5, 0.5], [0.5, 0.5], [0.5, 0.5], [0.5, 0.5], [0.5, 0.5], [0.5, 0.5], [0.5, 0.5], [0.5, 0.5], [0.5, 0.5], [0.5, 0.5], [0.5, 0.5], [0.5, 0.5]]\n"
     ]
    }
   ],
   "source": [
    "for bin in bin_intervals.values():\n",
    "    print(bin)"
   ]
  },
  {
   "attachments": {},
   "cell_type": "markdown",
   "metadata": {},
   "source": [
    "## Hierarchical Naive Bayes"
   ]
  },
  {
   "cell_type": "code",
   "execution_count": 28,
   "metadata": {},
   "outputs": [
    {
     "name": "stderr",
     "output_type": "stream",
     "text": [
      "/Users/emilychen/Desktop/IdentitySync/hnb-identity-matching/.venv/lib/python3.11/site-packages/tqdm/auto.py:21: TqdmWarning: IProgress not found. Please update jupyter and ipywidgets. See https://ipywidgets.readthedocs.io/en/stable/user_install.html\n",
      "  from .autonotebook import tqdm as notebook_tqdm\n"
     ]
    }
   ],
   "source": [
    "from pgmpy.models import BayesianModel\n",
    "from pgmpy.estimators import MaximumLikelihoodEstimator, BayesianEstimator"
   ]
  },
  {
   "cell_type": "code",
   "execution_count": 29,
   "metadata": {},
   "outputs": [
    {
     "name": "stderr",
     "output_type": "stream",
     "text": [
      "/Users/emilychen/Desktop/IdentitySync/hnb-identity-matching/.venv/lib/python3.11/site-packages/pgmpy/models/BayesianModel.py:8: FutureWarning: BayesianModel has been renamed to BayesianNetwork. Please use BayesianNetwork class, BayesianModel will be removed in future.\n",
      "  warnings.warn(\n"
     ]
    }
   ],
   "source": [
    "# Create the Hierarchical Naive Bayes model\n",
    "model = BayesianModel()"
   ]
  },
  {
   "cell_type": "code",
   "execution_count": 31,
   "metadata": {},
   "outputs": [
    {
     "ename": "TypeError",
     "evalue": "list.append() takes exactly one argument (2 given)",
     "output_type": "error",
     "traceback": [
      "\u001b[0;31m---------------------------------------------------------------------------\u001b[0m",
      "\u001b[0;31mTypeError\u001b[0m                                 Traceback (most recent call last)",
      "Cell \u001b[0;32mIn[31], line 17\u001b[0m\n\u001b[1;32m     15\u001b[0m pairs \u001b[39m=\u001b[39m []\n\u001b[1;32m     16\u001b[0m \u001b[39mfor\u001b[39;00m val \u001b[39min\u001b[39;00m level2:\n\u001b[0;32m---> 17\u001b[0m     pairs\u001b[39m.\u001b[39;49mappend(level1[\u001b[39m0\u001b[39;49m], val)\n\u001b[1;32m     18\u001b[0m model\u001b[39m.\u001b[39madd_edges_from(pairs)\n\u001b[1;32m     20\u001b[0m \u001b[39m# Connect Name Match\u001b[39;00m\n",
      "\u001b[0;31mTypeError\u001b[0m: list.append() takes exactly one argument (2 given)"
     ]
    }
   ],
   "source": [
    "level1 = ['Identity Match']\n",
    "level2 = ['Name Match', 'DOB Match', 'Address Match', 'ID Match']\n",
    "level3 = ['First Name Match', 'Middle Name Match', 'Last Name Match', 'DOB Similarity', 'Address Similarity', 'ID Similarity']\n",
    "level4 = ['First Name Similarity', 'Middle Name Similarity', 'Last Name Similarity']\n",
    "\n",
    "# Add Nodes\n",
    "model.add_nodes_from(level1)\n",
    "model.add_nodes_from(level2)\n",
    "model.add_nodes_from(level3)\n",
    "model.add_nodes_from(level4)\n",
    "\n",
    "# Add edges in most confusing way possible\n",
    "\n",
    "# Connect level1 with level2\n",
    "pairs = []\n",
    "for val in level2:\n",
    "    pairs.append(level1[0], val)\n",
    "model.add_edges_from(pairs)\n",
    "\n",
    "# Connect Name Match\n",
    "pairs.clear()\n",
    "for val in level3[0:3]:\n",
    "    pairs.append(level2[0], val)\n",
    "model.add_edges_from(pairs)\n",
    "\n",
    "# Connect DOB, Address, and ID Match with Similarity\n",
    "pairs.clear()\n",
    "for i in range(1, 4):\n",
    "    pairs.append(level2[i], level3[i + 2])\n",
    "model.add_edges_from(pairs)\n",
    "\n",
    "# Connect Name Matches with Similarity\n",
    "pairs.clear()\n",
    "for i in range(3):\n",
    "    pairs.append(level3[i], level4[i])\n",
    "model.add_edges_from(pairs)"
   ]
  },
  {
   "cell_type": "code",
   "execution_count": null,
   "metadata": {},
   "outputs": [],
   "source": [
    "# Estimate CPDs using Maximum Likelihood Estimation (MLE)\n",
    "estimator = MaximumLikelihoodEstimator(model, data)"
   ]
  },
  {
   "cell_type": "code",
   "execution_count": null,
   "metadata": {},
   "outputs": [],
   "source": [
    "# Fit the model to the data\n",
    "model.fit(data, estimator=estimator)"
   ]
  },
  {
   "cell_type": "code",
   "execution_count": null,
   "metadata": {},
   "outputs": [],
   "source": [
    "# Predict using the trained model\n",
    "# Assuming you have a test DataFrame 'test_data' with columns 'A', 'B', 'C', 'D', 'E'\n",
    "predictions = model.predict(test_data)"
   ]
  }
 ],
 "metadata": {
  "kernelspec": {
   "display_name": "Python 3",
   "language": "python",
   "name": "python3"
  },
  "language_info": {
   "codemirror_mode": {
    "name": "ipython",
    "version": 3
   },
   "file_extension": ".py",
   "mimetype": "text/x-python",
   "name": "python",
   "nbconvert_exporter": "python",
   "pygments_lexer": "ipython3",
   "version": "3.11.3"
  },
  "orig_nbformat": 4
 },
 "nbformat": 4,
 "nbformat_minor": 2
}
