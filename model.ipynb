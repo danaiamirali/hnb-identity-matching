{
 "cells": [
  {
   "attachments": {},
   "cell_type": "markdown",
   "metadata": {},
   "source": [
    "# Hierarchical Naive Bayes Model"
   ]
  },
  {
   "cell_type": "code",
   "execution_count": 2,
   "metadata": {},
   "outputs": [],
   "source": [
    "import pandas as pd"
   ]
  },
  {
   "attachments": {},
   "cell_type": "markdown",
   "metadata": {},
   "source": [
    "Importing the dataset from the data folder."
   ]
  },
  {
   "cell_type": "code",
   "execution_count": 3,
   "metadata": {},
   "outputs": [
    {
     "data": {
      "text/html": [
       "<div>\n",
       "<style scoped>\n",
       "    .dataframe tbody tr th:only-of-type {\n",
       "        vertical-align: middle;\n",
       "    }\n",
       "\n",
       "    .dataframe tbody tr th {\n",
       "        vertical-align: top;\n",
       "    }\n",
       "\n",
       "    .dataframe thead th {\n",
       "        text-align: right;\n",
       "    }\n",
       "</style>\n",
       "<table border=\"1\" class=\"dataframe\">\n",
       "  <thead>\n",
       "    <tr style=\"text-align: right;\">\n",
       "      <th></th>\n",
       "      <th>ID</th>\n",
       "      <th>Name</th>\n",
       "      <th>Address</th>\n",
       "      <th>Date of Birth</th>\n",
       "    </tr>\n",
       "  </thead>\n",
       "  <tbody>\n",
       "    <tr>\n",
       "      <th>0</th>\n",
       "      <td>787879</td>\n",
       "      <td>Karen Hughes</td>\n",
       "      <td>668 Thompson Square, East Monicaburgh, OR 01361</td>\n",
       "      <td>07-18-1995</td>\n",
       "    </tr>\n",
       "    <tr>\n",
       "      <th>1</th>\n",
       "      <td>442995</td>\n",
       "      <td>Tracy George</td>\n",
       "      <td>013 Watson Prairie, North Mistyton, ME 96068</td>\n",
       "      <td>11-04-1977</td>\n",
       "    </tr>\n",
       "    <tr>\n",
       "      <th>2</th>\n",
       "      <td>865957</td>\n",
       "      <td>Jennifer Patel</td>\n",
       "      <td>5787 Kim Summit Apt. 750, Janeport, MI 55669</td>\n",
       "      <td>04-24-2004</td>\n",
       "    </tr>\n",
       "    <tr>\n",
       "      <th>3</th>\n",
       "      <td>427670</td>\n",
       "      <td>Ashley Williams</td>\n",
       "      <td>32599 Tracy Flat, North Lisamouth, MA 38573</td>\n",
       "      <td>05-26-1951</td>\n",
       "    </tr>\n",
       "    <tr>\n",
       "      <th>4</th>\n",
       "      <td>294077</td>\n",
       "      <td>Christopher Lee</td>\n",
       "      <td>PSC 4163, Box 9402, APO AP 88964</td>\n",
       "      <td>06-18-1941</td>\n",
       "    </tr>\n",
       "  </tbody>\n",
       "</table>\n",
       "</div>"
      ],
      "text/plain": [
       "       ID             Name                                          Address  \\\n",
       "0  787879     Karen Hughes  668 Thompson Square, East Monicaburgh, OR 01361   \n",
       "1  442995     Tracy George     013 Watson Prairie, North Mistyton, ME 96068   \n",
       "2  865957   Jennifer Patel     5787 Kim Summit Apt. 750, Janeport, MI 55669   \n",
       "3  427670  Ashley Williams      32599 Tracy Flat, North Lisamouth, MA 38573   \n",
       "4  294077  Christopher Lee                 PSC 4163, Box 9402, APO AP 88964   \n",
       "\n",
       "  Date of Birth  \n",
       "0    07-18-1995  \n",
       "1    11-04-1977  \n",
       "2    04-24-2004  \n",
       "3    05-26-1951  \n",
       "4    06-18-1941  "
      ]
     },
     "execution_count": 3,
     "metadata": {},
     "output_type": "execute_result"
    }
   ],
   "source": [
    "df = pd.read_csv('data/synthetic_dataset.csv')\n",
    "df.head()"
   ]
  },
  {
   "attachments": {},
   "cell_type": "markdown",
   "metadata": {},
   "source": [
    "## Preprocessing"
   ]
  },
  {
   "attachments": {},
   "cell_type": "markdown",
   "metadata": {},
   "source": [
    "### Cleanup"
   ]
  },
  {
   "cell_type": "code",
   "execution_count": 4,
   "metadata": {},
   "outputs": [],
   "source": [
    "\"\"\"\n",
    "Function to split name into first, middle, and last name\n",
    "\"\"\"\n",
    "def split_name(name):\n",
    "    name = name.split()\n",
    "    first_name = name[0]\n",
    "    last_name = name[-1]\n",
    "    middle_name = \" \".join(name[1:-1])\n",
    "    return first_name, middle_name, last_name"
   ]
  },
  {
   "attachments": {},
   "cell_type": "markdown",
   "metadata": {},
   "source": [
    "The split name function may not be necessary depending on the structure of the data:"
   ]
  },
  {
   "cell_type": "code",
   "execution_count": 5,
   "metadata": {},
   "outputs": [],
   "source": [
    "# If name column exists, split name into first, middle, and last name\n",
    "# If name column does not exist, assume the existence of other columns and do nothing\n",
    "if 'Name' in df.columns:\n",
    "    # Split name into first, middle, and last name\n",
    "    df['First Name'], df['Middle Name'], df['Last Name'] = zip(*df['Name'].map(split_name))\n",
    "\n",
    "    df.drop('Name', axis=1, inplace=True)\n",
    "\n",
    "if 'Middle Name' not in df.columns:\n",
    "    df['Middle Name'] = \"\""
   ]
  },
  {
   "attachments": {},
   "cell_type": "markdown",
   "metadata": {},
   "source": [
    "Now, we need to reorder the columns and sample them to ensure consistency before building our similarity measures."
   ]
  },
  {
   "cell_type": "code",
   "execution_count": 6,
   "metadata": {},
   "outputs": [],
   "source": [
    "# Reorder cols to put name cols in front\n",
    "df = df[['First Name', 'Middle Name', 'Last Name', 'Date of Birth', 'Address', 'ID']]"
   ]
  },
  {
   "cell_type": "code",
   "execution_count": 7,
   "metadata": {},
   "outputs": [
    {
     "data": {
      "text/html": [
       "<div>\n",
       "<style scoped>\n",
       "    .dataframe tbody tr th:only-of-type {\n",
       "        vertical-align: middle;\n",
       "    }\n",
       "\n",
       "    .dataframe tbody tr th {\n",
       "        vertical-align: top;\n",
       "    }\n",
       "\n",
       "    .dataframe thead th {\n",
       "        text-align: right;\n",
       "    }\n",
       "</style>\n",
       "<table border=\"1\" class=\"dataframe\">\n",
       "  <thead>\n",
       "    <tr style=\"text-align: right;\">\n",
       "      <th></th>\n",
       "      <th>First Name</th>\n",
       "      <th>Middle Name</th>\n",
       "      <th>Last Name</th>\n",
       "      <th>Date of Birth</th>\n",
       "      <th>Address</th>\n",
       "      <th>ID</th>\n",
       "    </tr>\n",
       "  </thead>\n",
       "  <tbody>\n",
       "    <tr>\n",
       "      <th>0</th>\n",
       "      <td>Karen</td>\n",
       "      <td></td>\n",
       "      <td>Hughes</td>\n",
       "      <td>07-18-1995</td>\n",
       "      <td>668 Thompson Square, East Monicaburgh, OR 01361</td>\n",
       "      <td>787879</td>\n",
       "    </tr>\n",
       "    <tr>\n",
       "      <th>1</th>\n",
       "      <td>Tracy</td>\n",
       "      <td></td>\n",
       "      <td>George</td>\n",
       "      <td>11-04-1977</td>\n",
       "      <td>013 Watson Prairie, North Mistyton, ME 96068</td>\n",
       "      <td>442995</td>\n",
       "    </tr>\n",
       "    <tr>\n",
       "      <th>2</th>\n",
       "      <td>Jennifer</td>\n",
       "      <td></td>\n",
       "      <td>Patel</td>\n",
       "      <td>04-24-2004</td>\n",
       "      <td>5787 Kim Summit Apt. 750, Janeport, MI 55669</td>\n",
       "      <td>865957</td>\n",
       "    </tr>\n",
       "    <tr>\n",
       "      <th>3</th>\n",
       "      <td>Ashley</td>\n",
       "      <td></td>\n",
       "      <td>Williams</td>\n",
       "      <td>05-26-1951</td>\n",
       "      <td>32599 Tracy Flat, North Lisamouth, MA 38573</td>\n",
       "      <td>427670</td>\n",
       "    </tr>\n",
       "    <tr>\n",
       "      <th>4</th>\n",
       "      <td>Christopher</td>\n",
       "      <td></td>\n",
       "      <td>Lee</td>\n",
       "      <td>06-18-1941</td>\n",
       "      <td>PSC 4163, Box 9402, APO AP 88964</td>\n",
       "      <td>294077</td>\n",
       "    </tr>\n",
       "  </tbody>\n",
       "</table>\n",
       "</div>"
      ],
      "text/plain": [
       "    First Name Middle Name Last Name Date of Birth  \\\n",
       "0        Karen                Hughes    07-18-1995   \n",
       "1        Tracy                George    11-04-1977   \n",
       "2     Jennifer                 Patel    04-24-2004   \n",
       "3       Ashley              Williams    05-26-1951   \n",
       "4  Christopher                   Lee    06-18-1941   \n",
       "\n",
       "                                           Address      ID  \n",
       "0  668 Thompson Square, East Monicaburgh, OR 01361  787879  \n",
       "1     013 Watson Prairie, North Mistyton, ME 96068  442995  \n",
       "2     5787 Kim Summit Apt. 750, Janeport, MI 55669  865957  \n",
       "3      32599 Tracy Flat, North Lisamouth, MA 38573  427670  \n",
       "4                 PSC 4163, Box 9402, APO AP 88964  294077  "
      ]
     },
     "execution_count": 7,
     "metadata": {},
     "output_type": "execute_result"
    }
   ],
   "source": [
    "df.head()"
   ]
  },
  {
   "attachments": {},
   "cell_type": "markdown",
   "metadata": {},
   "source": [
    "Sample 200 records from dataframe."
   ]
  },
  {
   "cell_type": "code",
   "execution_count": 8,
   "metadata": {},
   "outputs": [],
   "source": [
    "# Sample 200 records from df into new df\n",
    "df_sample = df.sample(200)"
   ]
  },
  {
   "cell_type": "code",
   "execution_count": 9,
   "metadata": {},
   "outputs": [
    {
     "data": {
      "text/html": [
       "<div>\n",
       "<style scoped>\n",
       "    .dataframe tbody tr th:only-of-type {\n",
       "        vertical-align: middle;\n",
       "    }\n",
       "\n",
       "    .dataframe tbody tr th {\n",
       "        vertical-align: top;\n",
       "    }\n",
       "\n",
       "    .dataframe thead th {\n",
       "        text-align: right;\n",
       "    }\n",
       "</style>\n",
       "<table border=\"1\" class=\"dataframe\">\n",
       "  <thead>\n",
       "    <tr style=\"text-align: right;\">\n",
       "      <th></th>\n",
       "      <th>First Name</th>\n",
       "      <th>Middle Name</th>\n",
       "      <th>Last Name</th>\n",
       "      <th>Date of Birth</th>\n",
       "      <th>Address</th>\n",
       "      <th>ID</th>\n",
       "    </tr>\n",
       "  </thead>\n",
       "  <tbody>\n",
       "    <tr>\n",
       "      <th>246</th>\n",
       "      <td>Mario</td>\n",
       "      <td></td>\n",
       "      <td>Carroll</td>\n",
       "      <td>12-17-1962</td>\n",
       "      <td>967 Davis Avenue Suite 177, South Taylorboroug...</td>\n",
       "      <td>466635</td>\n",
       "    </tr>\n",
       "    <tr>\n",
       "      <th>660</th>\n",
       "      <td>Amy</td>\n",
       "      <td></td>\n",
       "      <td>Boyd</td>\n",
       "      <td>01-17-1965</td>\n",
       "      <td>99499 Herrera Spur Suite 970, West Zacharyshir...</td>\n",
       "      <td>599222</td>\n",
       "    </tr>\n",
       "    <tr>\n",
       "      <th>526</th>\n",
       "      <td>Harold</td>\n",
       "      <td></td>\n",
       "      <td>Cline</td>\n",
       "      <td>09-10-1996</td>\n",
       "      <td>519 Salinas Fields, Bairdberg, NJ 00837</td>\n",
       "      <td>574582</td>\n",
       "    </tr>\n",
       "    <tr>\n",
       "      <th>56</th>\n",
       "      <td>Ashley</td>\n",
       "      <td></td>\n",
       "      <td>Martinez</td>\n",
       "      <td>1938-09-01</td>\n",
       "      <td>24755 Judith Meadow, North Summermouth, WY 97962</td>\n",
       "      <td>251902</td>\n",
       "    </tr>\n",
       "    <tr>\n",
       "      <th>393</th>\n",
       "      <td>Mr.</td>\n",
       "      <td>Robert</td>\n",
       "      <td>Jones</td>\n",
       "      <td>09-13-1960</td>\n",
       "      <td>PSC 3748, Box 6236, APO AP 30488</td>\n",
       "      <td>345121</td>\n",
       "    </tr>\n",
       "  </tbody>\n",
       "</table>\n",
       "</div>"
      ],
      "text/plain": [
       "    First Name Middle Name Last Name Date of Birth  \\\n",
       "246      Mario               Carroll    12-17-1962   \n",
       "660        Amy                  Boyd    01-17-1965   \n",
       "526     Harold                 Cline    09-10-1996   \n",
       "56      Ashley              Martinez    1938-09-01   \n",
       "393        Mr.      Robert     Jones    09-13-1960   \n",
       "\n",
       "                                               Address      ID  \n",
       "246  967 Davis Avenue Suite 177, South Taylorboroug...  466635  \n",
       "660  99499 Herrera Spur Suite 970, West Zacharyshir...  599222  \n",
       "526            519 Salinas Fields, Bairdberg, NJ 00837  574582  \n",
       "56    24755 Judith Meadow, North Summermouth, WY 97962  251902  \n",
       "393                   PSC 3748, Box 6236, APO AP 30488  345121  "
      ]
     },
     "execution_count": 9,
     "metadata": {},
     "output_type": "execute_result"
    }
   ],
   "source": [
    "df_sample.head()"
   ]
  },
  {
   "cell_type": "code",
   "execution_count": 10,
   "metadata": {},
   "outputs": [],
   "source": [
    "# Remove sampled records from df\n",
    "df = df.drop(df_sample.index)"
   ]
  },
  {
   "attachments": {},
   "cell_type": "markdown",
   "metadata": {},
   "source": [
    "### Similarity Measures"
   ]
  },
  {
   "attachments": {},
   "cell_type": "markdown",
   "metadata": {},
   "source": [
    "With a sample df, we can now build a similarity measure df by comparing each record in the sample df with the other records."
   ]
  },
  {
   "cell_type": "code",
   "execution_count": 11,
   "metadata": {},
   "outputs": [],
   "source": [
    "import Levenshtein as lev"
   ]
  },
  {
   "cell_type": "code",
   "execution_count": 12,
   "metadata": {},
   "outputs": [],
   "source": [
    "\"\"\"\n",
    "Returns normalized levenshtein distance between two strings\n",
    "\"\"\"\n",
    "def levenshtein_distance(\n",
    "        s1: str,\n",
    "        s2: str\n",
    ") -> int:\n",
    "    distance = lev.distance(s1, s2)\n",
    "    try:\n",
    "        return 1 - distance / float(max(len(s1), len(s2)))\n",
    "    except ZeroDivisionError:\n",
    "        return 0"
   ]
  },
  {
   "cell_type": "code",
   "execution_count": 13,
   "metadata": {},
   "outputs": [],
   "source": [
    "\"\"\"\n",
    "Returns Levenshtein distance between each field of two rows\n",
    "Assumes following format for rows:\n",
    "    row = pd.Series([First Name, Middle Name, Last Name, DOB, Address, ID])\n",
    "\"\"\"\n",
    "def row_similarity(\n",
    "        row_1: pd.Series, \n",
    "        df_2: pd.DataFrame\n",
    "    ) -> pd.DataFrame:\n",
    "\n",
    "    # Compute similarity measures for each column using Levenshtein distance\n",
    "    first_name_similarity = df_2['First Name'].apply(lambda x : levenshtein_distance(row_1['First Name'], x))\n",
    "    middle_name_similarity = df_2['Middle Name'].apply(lambda x : levenshtein_distance(row_1['Middle Name'], x))\n",
    "    last_name_similarity = df_2['Last Name'].apply(lambda x : levenshtein_distance(row_1['Last Name'], x))\n",
    "    dob_similarity = df_2['Date of Birth'].apply(lambda x : levenshtein_distance(row_1['Date of Birth'], x))\n",
    "    address_similarity = df_2['Address'].apply(lambda x : levenshtein_distance(row_1['Address'], x))\n",
    "    id_similarity = df_2['ID'].apply(lambda x : levenshtein_distance(row_1['ID'], x))\n",
    "\n",
    "    # Return DataFrame with similarity measures\n",
    "    return pd.DataFrame({\n",
    "        'ID1': row_1['ID'],\n",
    "        'ID2': df_2['ID'],\n",
    "        'First Name Similarity': first_name_similarity,\n",
    "        'Middle Name Similarity': middle_name_similarity,\n",
    "        'Last Name Similarity': last_name_similarity,\n",
    "        'Date of Birth Similarity': dob_similarity,\n",
    "        'Address Similarity': address_similarity,\n",
    "        'ID Similarity': id_similarity\n",
    "    })\n"
   ]
  },
  {
   "cell_type": "code",
   "execution_count": 14,
   "metadata": {},
   "outputs": [],
   "source": [
    "\"\"\"\n",
    "Builds similarity measure between records in two df\n",
    "Creates a new df from the two df with the following columns:\n",
    "    - ID1: ID of record in df1\n",
    "    - ID2: ID of record in df2\n",
    "    - First Name Similarity: Normalized levenshtein distance between first names\n",
    "    - Middle Name Similarity: Normalized levenshtein distance between middle names\n",
    "    - Last Name Similarity: Normalized levenshtein distance between last names\n",
    "    - Date of Birth Similarity: Normalized levenshtein distance between dates of birth\n",
    "    - Address Similarity: Normalized levenshtein distance between addresses\n",
    "    - ID Similarity: Normalized levenshtein distance between IDs\n",
    "\"\"\"\n",
    "def build_similarity_df (\n",
    "        df_1: pd.DataFrame,\n",
    "        df_2: pd.DataFrame\n",
    ") -> pd.DataFrame:\n",
    "    new_df = pd.DataFrame(columns=['ID1', \n",
    "                                   'ID2', \n",
    "                                   'First Name Similarity', \n",
    "                                   'Middle Name Similarity', \n",
    "                                   'Last Name Similarity', \n",
    "                                   'Date of Birth Similarity', \n",
    "                                   'Address Similarity', \n",
    "                                   'ID Similarity'])\n",
    "\n",
    "    # Convert ID columns to string\n",
    "    df_1[\"ID\"] = df_1[\"ID\"].astype(str)\n",
    "    df_2[\"ID\"] = df_2[\"ID\"].astype(str)\n",
    "\n",
    "    def apply_row_similarity(row, new_df):\n",
    "        sim = row_similarity(row, df_2)\n",
    "        new_df = pd.concat([new_df, sim], ignore_index=True)\n",
    "        return new_df\n",
    "\n",
    "    # Use vectorization to compute similarity between each row in df_1 and df_2\n",
    "    new_df = df_1.apply(apply_row_similarity, args=(new_df,), axis=1).reset_index(drop=True)\n",
    "\n",
    "    # New df is a series of dfs, so we need to concatenate them\n",
    "    new_df = pd.concat(new_df.to_list(), ignore_index=True)\n",
    "\n",
    "    return new_df"
   ]
  },
  {
   "cell_type": "code",
   "execution_count": 15,
   "metadata": {},
   "outputs": [
    {
     "data": {
      "text/html": [
       "<div>\n",
       "<style scoped>\n",
       "    .dataframe tbody tr th:only-of-type {\n",
       "        vertical-align: middle;\n",
       "    }\n",
       "\n",
       "    .dataframe tbody tr th {\n",
       "        vertical-align: top;\n",
       "    }\n",
       "\n",
       "    .dataframe thead th {\n",
       "        text-align: right;\n",
       "    }\n",
       "</style>\n",
       "<table border=\"1\" class=\"dataframe\">\n",
       "  <thead>\n",
       "    <tr style=\"text-align: right;\">\n",
       "      <th></th>\n",
       "      <th>ID1</th>\n",
       "      <th>ID2</th>\n",
       "      <th>First Name Similarity</th>\n",
       "      <th>Middle Name Similarity</th>\n",
       "      <th>Last Name Similarity</th>\n",
       "      <th>Date of Birth Similarity</th>\n",
       "      <th>Address Similarity</th>\n",
       "      <th>ID Similarity</th>\n",
       "    </tr>\n",
       "  </thead>\n",
       "  <tbody>\n",
       "    <tr>\n",
       "      <th>0</th>\n",
       "      <td>466635</td>\n",
       "      <td>787879</td>\n",
       "      <td>0.400000</td>\n",
       "      <td>0.0</td>\n",
       "      <td>0.000000</td>\n",
       "      <td>0.5</td>\n",
       "      <td>0.333333</td>\n",
       "      <td>0.000000</td>\n",
       "    </tr>\n",
       "    <tr>\n",
       "      <th>1</th>\n",
       "      <td>466635</td>\n",
       "      <td>442995</td>\n",
       "      <td>0.000000</td>\n",
       "      <td>0.0</td>\n",
       "      <td>0.142857</td>\n",
       "      <td>0.5</td>\n",
       "      <td>0.280702</td>\n",
       "      <td>0.333333</td>\n",
       "    </tr>\n",
       "    <tr>\n",
       "      <th>2</th>\n",
       "      <td>466635</td>\n",
       "      <td>865957</td>\n",
       "      <td>0.125000</td>\n",
       "      <td>0.0</td>\n",
       "      <td>0.285714</td>\n",
       "      <td>0.2</td>\n",
       "      <td>0.263158</td>\n",
       "      <td>0.166667</td>\n",
       "    </tr>\n",
       "    <tr>\n",
       "      <th>3</th>\n",
       "      <td>466635</td>\n",
       "      <td>294077</td>\n",
       "      <td>0.272727</td>\n",
       "      <td>0.0</td>\n",
       "      <td>0.000000</td>\n",
       "      <td>0.5</td>\n",
       "      <td>0.157895</td>\n",
       "      <td>0.000000</td>\n",
       "    </tr>\n",
       "    <tr>\n",
       "      <th>4</th>\n",
       "      <td>466635</td>\n",
       "      <td>492930</td>\n",
       "      <td>0.400000</td>\n",
       "      <td>0.0</td>\n",
       "      <td>0.222222</td>\n",
       "      <td>0.5</td>\n",
       "      <td>0.192982</td>\n",
       "      <td>0.333333</td>\n",
       "    </tr>\n",
       "  </tbody>\n",
       "</table>\n",
       "</div>"
      ],
      "text/plain": [
       "      ID1     ID2  First Name Similarity  Middle Name Similarity  \\\n",
       "0  466635  787879               0.400000                     0.0   \n",
       "1  466635  442995               0.000000                     0.0   \n",
       "2  466635  865957               0.125000                     0.0   \n",
       "3  466635  294077               0.272727                     0.0   \n",
       "4  466635  492930               0.400000                     0.0   \n",
       "\n",
       "   Last Name Similarity  Date of Birth Similarity  Address Similarity  \\\n",
       "0              0.000000                       0.5            0.333333   \n",
       "1              0.142857                       0.5            0.280702   \n",
       "2              0.285714                       0.2            0.263158   \n",
       "3              0.000000                       0.5            0.157895   \n",
       "4              0.222222                       0.5            0.192982   \n",
       "\n",
       "   ID Similarity  \n",
       "0       0.000000  \n",
       "1       0.333333  \n",
       "2       0.166667  \n",
       "3       0.000000  \n",
       "4       0.333333  "
      ]
     },
     "execution_count": 15,
     "metadata": {},
     "output_type": "execute_result"
    }
   ],
   "source": [
    "similarity_df = build_similarity_df(df_sample,  df)\n",
    "similarity_df.head()"
   ]
  },
  {
   "attachments": {},
   "cell_type": "markdown",
   "metadata": {},
   "source": [
    "## Discretization"
   ]
  },
  {
   "cell_type": "code",
   "execution_count": 16,
   "metadata": {},
   "outputs": [],
   "source": [
    "# #for solving systems of equations\n",
    "# import sympy as sp \n",
    "# import math"
   ]
  },
  {
   "cell_type": "code",
   "execution_count": 17,
   "metadata": {},
   "outputs": [],
   "source": [
    "# \"\"\"\n",
    "#     t = # of intervals\n",
    "#     s = interval size\n",
    "#     n = # of instances in training dataset\n",
    "\n",
    "#     s * t = n\n",
    "#     s - 30 = t\n",
    "# \"\"\"\n",
    "# total_instances = len(similarity_df) # rows in training dataset\n",
    "# print(total_instances)"
   ]
  },
  {
   "cell_type": "code",
   "execution_count": 18,
   "metadata": {},
   "outputs": [],
   "source": [
    "# # WPKID function to solve for s and t given n, returns pair {s, t}\n",
    "# def interval_size_and_num(n) -> tuple:\n",
    "#     s, t = sp.symbols('s t')\n",
    "#     equation1 = sp.Eq(s * t, n)\n",
    "#     equation2 = sp.Eq(s - 30, t)  \n",
    "#     solution = sp.solve((equation1, equation2), (s, t))\n",
    "#     s_val = solution[0]\n",
    "#     t_val = solution[1] \n",
    "#     return s_val, t_val"
   ]
  },
  {
   "cell_type": "code",
   "execution_count": 19,
   "metadata": {},
   "outputs": [],
   "source": [
    "# Calculate s and t\n",
    "# s = interval_size_and_num(total_instances)[0][1] * -1\n",
    "# t = interval_size_and_num(total_instances)[1][1]\n",
    "\n",
    "# num_instances = math.floor(s)\n",
    "# num_intervals = math.floor(t)\n",
    "# print(num_instances)\n",
    "# print(num_intervals)"
   ]
  },
  {
   "attachments": {},
   "cell_type": "markdown",
   "metadata": {},
   "source": [
    "## Equal Frequency Discretization(EFD)\n",
    "#### Using k = 7 intervals"
   ]
  },
  {
   "attachments": {},
   "cell_type": "markdown",
   "metadata": {},
   "source": [
    "### 1. Standardize the data"
   ]
  },
  {
   "cell_type": "code",
   "execution_count": 135,
   "metadata": {},
   "outputs": [],
   "source": [
    "def std_dev_divide(column):\n",
    "    #find std dev of nonzeros\n",
    "    std_dev = column.std()\n",
    "    # divide all values by std dev\n",
    "    column = column/std_dev"
   ]
  },
  {
   "cell_type": "code",
   "execution_count": 136,
   "metadata": {},
   "outputs": [],
   "source": [
    "discrete_df = similarity_df\n",
    "bins = {'First Name Similarity' : [0],\n",
    "        'Middle Name Similarity' : [0],\n",
    "        'Last Name Similarity' : [0],\n",
    "        'Date of Birth Similarity' : [0],\n",
    "        'Address Similarity' : [0],\n",
    "        'ID Similarity' : [0]}"
   ]
  },
  {
   "cell_type": "code",
   "execution_count": 137,
   "metadata": {},
   "outputs": [],
   "source": [
    "for column in discrete_df.iloc[:, 2:]:\n",
    "    #split into zero and nonzeros\n",
    "    zeros_df = discrete_df[discrete_df[column] == 0].copy()\n",
    "    nonzeros_df = discrete_df[discrete_df[column] != 0].copy()\n",
    "    #divide by standard dev in nonzeros\n",
    "    std_dev_divide(nonzeros_df[column])\n",
    "    #discretize column\n",
    "    nonzeros_df[column], bin = pd.qcut(nonzeros_df[column], \n",
    "                                        q=6, \n",
    "                                        labels=False,\n",
    "                                        retbins=True,\n",
    "                                        duplicates='drop') \n",
    "    #add 1 to every value to switch to index 1\n",
    "    nonzeros_df[column] = nonzeros_df[column] + 1\n",
    "    #save bin ranges\n",
    "    bins[column].extend(bin.tolist())\n",
    "    #recombine zero and nonzero dataframes\n",
    "    discrete_df = pd.concat([zeros_df, nonzeros_df], axis=0)   "
   ]
  },
  {
   "cell_type": "code",
   "execution_count": 138,
   "metadata": {},
   "outputs": [
    {
     "data": {
      "text/html": [
       "<div>\n",
       "<style scoped>\n",
       "    .dataframe tbody tr th:only-of-type {\n",
       "        vertical-align: middle;\n",
       "    }\n",
       "\n",
       "    .dataframe tbody tr th {\n",
       "        vertical-align: top;\n",
       "    }\n",
       "\n",
       "    .dataframe thead th {\n",
       "        text-align: right;\n",
       "    }\n",
       "</style>\n",
       "<table border=\"1\" class=\"dataframe\">\n",
       "  <thead>\n",
       "    <tr style=\"text-align: right;\">\n",
       "      <th></th>\n",
       "      <th>ID1</th>\n",
       "      <th>ID2</th>\n",
       "      <th>First Name Similarity</th>\n",
       "      <th>Middle Name Similarity</th>\n",
       "      <th>Last Name Similarity</th>\n",
       "      <th>Date of Birth Similarity</th>\n",
       "      <th>Address Similarity</th>\n",
       "      <th>ID Similarity</th>\n",
       "    </tr>\n",
       "  </thead>\n",
       "  <tbody>\n",
       "    <tr>\n",
       "      <th>117025</th>\n",
       "      <td>938960</td>\n",
       "      <td>429090</td>\n",
       "      <td>6.0</td>\n",
       "      <td>3.0</td>\n",
       "      <td>6.0</td>\n",
       "      <td>3.0</td>\n",
       "      <td>3.0</td>\n",
       "      <td>1.0</td>\n",
       "    </tr>\n",
       "    <tr>\n",
       "      <th>117261</th>\n",
       "      <td>938960</td>\n",
       "      <td>559069</td>\n",
       "      <td>4.0</td>\n",
       "      <td>5.0</td>\n",
       "      <td>5.0</td>\n",
       "      <td>1.0</td>\n",
       "      <td>4.0</td>\n",
       "      <td>1.0</td>\n",
       "    </tr>\n",
       "    <tr>\n",
       "      <th>117271</th>\n",
       "      <td>938960</td>\n",
       "      <td>332934</td>\n",
       "      <td>3.0</td>\n",
       "      <td>5.0</td>\n",
       "      <td>5.0</td>\n",
       "      <td>3.0</td>\n",
       "      <td>6.0</td>\n",
       "      <td>1.0</td>\n",
       "    </tr>\n",
       "    <tr>\n",
       "      <th>117734</th>\n",
       "      <td>938960</td>\n",
       "      <td>42730</td>\n",
       "      <td>5.0</td>\n",
       "      <td>3.0</td>\n",
       "      <td>5.0</td>\n",
       "      <td>5.0</td>\n",
       "      <td>5.0</td>\n",
       "      <td>1.0</td>\n",
       "    </tr>\n",
       "    <tr>\n",
       "      <th>117839</th>\n",
       "      <td>938960</td>\n",
       "      <td>983803</td>\n",
       "      <td>4.0</td>\n",
       "      <td>2.0</td>\n",
       "      <td>6.0</td>\n",
       "      <td>3.0</td>\n",
       "      <td>4.0</td>\n",
       "      <td>1.0</td>\n",
       "    </tr>\n",
       "  </tbody>\n",
       "</table>\n",
       "</div>"
      ],
      "text/plain": [
       "           ID1     ID2  First Name Similarity  Middle Name Similarity  \\\n",
       "117025  938960  429090                    6.0                     3.0   \n",
       "117261  938960  559069                    4.0                     5.0   \n",
       "117271  938960  332934                    3.0                     5.0   \n",
       "117734  938960   42730                    5.0                     3.0   \n",
       "117839  938960  983803                    4.0                     2.0   \n",
       "\n",
       "        Last Name Similarity  Date of Birth Similarity  Address Similarity  \\\n",
       "117025                   6.0                       3.0                 3.0   \n",
       "117261                   5.0                       1.0                 4.0   \n",
       "117271                   5.0                       3.0                 6.0   \n",
       "117734                   5.0                       5.0                 5.0   \n",
       "117839                   6.0                       3.0                 4.0   \n",
       "\n",
       "        ID Similarity  \n",
       "117025            1.0  \n",
       "117261            1.0  \n",
       "117271            1.0  \n",
       "117734            1.0  \n",
       "117839            1.0  "
      ]
     },
     "execution_count": 138,
     "metadata": {},
     "output_type": "execute_result"
    }
   ],
   "source": [
    "discrete_df.tail()"
   ]
  },
  {
   "cell_type": "code",
   "execution_count": 139,
   "metadata": {},
   "outputs": [
    {
     "name": "stdout",
     "output_type": "stream",
     "text": [
      "First Name Similarity [0, 0.09090909090909094, 0.125, 0.1428571428571429, 0.16666666666666663, 0.19999999999999996, 0.2857142857142857, 1.0]\n",
      "Middle Name Similarity [0, 0.06666666666666665, 0.09999999999999998, 0.1428571428571429, 0.16666666666666663, 0.25, 1.0]\n",
      "Last Name Similarity [0, 0.09090909090909094, 0.125, 0.1428571428571429, 0.16666666666666663, 0.2222222222222222, 0.33333333333333337, 1.0]\n",
      "Date of Birth Similarity [0, 0.09999999999999998, 0.30000000000000004, 0.4, 0.5, 0.6, 1.0]\n",
      "Address Similarity [0, 0.08333333333333337, 0.1707317073170732, 0.20408163265306123, 0.23076923076923073, 0.26086956521739135, 0.30188679245283023, 1.0]\n",
      "ID Similarity [0, 0.16666666666666663, 0.33333333333333337, 1.0]\n"
     ]
    }
   ],
   "source": [
    "for key, value in bins.items():\n",
    "    print(key, value)"
   ]
  },
  {
   "attachments": {},
   "cell_type": "markdown",
   "metadata": {},
   "source": [
    "## Hierarchical Naive Bayes"
   ]
  },
  {
   "cell_type": "code",
   "execution_count": 28,
   "metadata": {},
   "outputs": [
    {
     "name": "stderr",
     "output_type": "stream",
     "text": [
      "/Users/emilychen/Desktop/IdentitySync/hnb-identity-matching/.venv/lib/python3.11/site-packages/tqdm/auto.py:21: TqdmWarning: IProgress not found. Please update jupyter and ipywidgets. See https://ipywidgets.readthedocs.io/en/stable/user_install.html\n",
      "  from .autonotebook import tqdm as notebook_tqdm\n"
     ]
    }
   ],
   "source": [
    "from pgmpy.models import BayesianModel\n",
    "from pgmpy.estimators import MaximumLikelihoodEstimator, BayesianEstimator"
   ]
  },
  {
   "cell_type": "code",
   "execution_count": 29,
   "metadata": {},
   "outputs": [
    {
     "name": "stderr",
     "output_type": "stream",
     "text": [
      "/Users/emilychen/Desktop/IdentitySync/hnb-identity-matching/.venv/lib/python3.11/site-packages/pgmpy/models/BayesianModel.py:8: FutureWarning: BayesianModel has been renamed to BayesianNetwork. Please use BayesianNetwork class, BayesianModel will be removed in future.\n",
      "  warnings.warn(\n"
     ]
    }
   ],
   "source": [
    "# Create the Hierarchical Naive Bayes model\n",
    "model = BayesianModel()"
   ]
  },
  {
   "cell_type": "code",
   "execution_count": 31,
   "metadata": {},
   "outputs": [
    {
     "ename": "TypeError",
     "evalue": "list.append() takes exactly one argument (2 given)",
     "output_type": "error",
     "traceback": [
      "\u001b[0;31m---------------------------------------------------------------------------\u001b[0m",
      "\u001b[0;31mTypeError\u001b[0m                                 Traceback (most recent call last)",
      "Cell \u001b[0;32mIn[31], line 17\u001b[0m\n\u001b[1;32m     15\u001b[0m pairs \u001b[39m=\u001b[39m []\n\u001b[1;32m     16\u001b[0m \u001b[39mfor\u001b[39;00m val \u001b[39min\u001b[39;00m level2:\n\u001b[0;32m---> 17\u001b[0m     pairs\u001b[39m.\u001b[39;49mappend(level1[\u001b[39m0\u001b[39;49m], val)\n\u001b[1;32m     18\u001b[0m model\u001b[39m.\u001b[39madd_edges_from(pairs)\n\u001b[1;32m     20\u001b[0m \u001b[39m# Connect Name Match\u001b[39;00m\n",
      "\u001b[0;31mTypeError\u001b[0m: list.append() takes exactly one argument (2 given)"
     ]
    }
   ],
   "source": [
    "level1 = ['Identity Match']\n",
    "level2 = ['Name Match', 'DOB Match', 'Address Match', 'ID Match']\n",
    "level3 = ['First Name Match', 'Middle Name Match', 'Last Name Match', 'DOB Similarity', 'Address Similarity', 'ID Similarity']\n",
    "level4 = ['First Name Similarity', 'Middle Name Similarity', 'Last Name Similarity']\n",
    "\n",
    "# Add Nodes\n",
    "model.add_nodes_from(level1)\n",
    "model.add_nodes_from(level2)\n",
    "model.add_nodes_from(level3)\n",
    "model.add_nodes_from(level4)\n",
    "\n",
    "# Add edges in most confusing way possible\n",
    "\n",
    "# Connect level1 with level2\n",
    "pairs = []\n",
    "for val in level2:\n",
    "    pairs.append(level1[0], val)\n",
    "model.add_edges_from(pairs)\n",
    "\n",
    "# Connect Name Match\n",
    "pairs.clear()\n",
    "for val in level3[0:3]:\n",
    "    pairs.append(level2[0], val)\n",
    "model.add_edges_from(pairs)\n",
    "\n",
    "# Connect DOB, Address, and ID Match with Similarity\n",
    "pairs.clear()\n",
    "for i in range(1, 4):\n",
    "    pairs.append(level2[i], level3[i + 2])\n",
    "model.add_edges_from(pairs)\n",
    "\n",
    "# Connect Name Matches with Similarity\n",
    "pairs.clear()\n",
    "for i in range(3):\n",
    "    pairs.append(level3[i], level4[i])\n",
    "model.add_edges_from(pairs)"
   ]
  },
  {
   "cell_type": "code",
   "execution_count": null,
   "metadata": {},
   "outputs": [],
   "source": [
    "# Estimate CPDs using Maximum Likelihood Estimation (MLE)\n",
    "estimator = MaximumLikelihoodEstimator(model, data)"
   ]
  },
  {
   "cell_type": "code",
   "execution_count": null,
   "metadata": {},
   "outputs": [],
   "source": [
    "# Fit the model to the data\n",
    "model.fit(data, estimator=estimator)"
   ]
  },
  {
   "cell_type": "code",
   "execution_count": null,
   "metadata": {},
   "outputs": [],
   "source": [
    "# Predict using the trained model\n",
    "# Assuming you have a test DataFrame 'test_data' with columns 'A', 'B', 'C', 'D', 'E'\n",
    "predictions = model.predict(test_data)"
   ]
  }
 ],
 "metadata": {
  "kernelspec": {
   "display_name": "Python 3",
   "language": "python",
   "name": "python3"
  },
  "language_info": {
   "codemirror_mode": {
    "name": "ipython",
    "version": 3
   },
   "file_extension": ".py",
   "mimetype": "text/x-python",
   "name": "python",
   "nbconvert_exporter": "python",
   "pygments_lexer": "ipython3",
   "version": "3.11.3"
  },
  "orig_nbformat": 4
 },
 "nbformat": 4,
 "nbformat_minor": 2
}
