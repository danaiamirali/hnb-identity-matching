{
 "cells": [
  {
   "attachments": {},
   "cell_type": "markdown",
   "metadata": {},
   "source": [
    "# Hierarchical Naive Bayes Model"
   ]
  },
  {
   "cell_type": "code",
   "execution_count": 30,
   "metadata": {},
   "outputs": [],
   "source": [
    "from pgmpy.models import BayesianNetwork\n",
    "from pgmpy.estimators import ExpectationMaximization\n",
    "import pandas as pd\n",
    "import random"
   ]
  },
  {
   "cell_type": "code",
   "execution_count": 31,
   "metadata": {},
   "outputs": [],
   "source": [
    "# Create the Hierarchical Naive Bayes model with latent structure\n",
    "model = BayesianNetwork(\n",
    "    ebunch=[\n",
    "        ('Identity Match', 'Name Match'),\n",
    "        ('Identity Match', 'DOB Match'),\n",
    "        ('Identity Match', 'Address Match'),\n",
    "        ('Identity Match', 'ID Match'),\n",
    "        ('Name Match', 'First Name Match'),\n",
    "        ('Name Match', 'Middle Name Match'),\n",
    "        ('Name Match', 'Last Name Match'),\n",
    "        ('DOB Match', 'Date of Birth Similarity'),\n",
    "        ('Address Match', 'Address Similarity'),\n",
    "        ('ID Match', 'ID Similarity'),\n",
    "        ('First Name Match', 'First Name Similarity'),\n",
    "        ('Middle Name Match', 'Middle Name Similarity'),\n",
    "        ('Last Name Match', 'Last Name Similarity')\n",
    "    ],\n",
    "    latents=['Name Match', 'DOB Match', 'Address Match', 'ID Match', 'First Name Match', 'Middle Name Match', 'Last Name Match']\n",
    ")"
   ]
  },
  {
   "cell_type": "code",
   "execution_count": 32,
   "metadata": {},
   "outputs": [
    {
     "data": {
      "text/html": [
       "<div>\n",
       "<style scoped>\n",
       "    .dataframe tbody tr th:only-of-type {\n",
       "        vertical-align: middle;\n",
       "    }\n",
       "\n",
       "    .dataframe tbody tr th {\n",
       "        vertical-align: top;\n",
       "    }\n",
       "\n",
       "    .dataframe thead th {\n",
       "        text-align: right;\n",
       "    }\n",
       "</style>\n",
       "<table border=\"1\" class=\"dataframe\">\n",
       "  <thead>\n",
       "    <tr style=\"text-align: right;\">\n",
       "      <th></th>\n",
       "      <th>Identity Match</th>\n",
       "      <th>Date of Birth Similarity</th>\n",
       "      <th>Address Similarity</th>\n",
       "      <th>ID Similarity</th>\n",
       "      <th>First Name Similarity</th>\n",
       "      <th>Middle Name Similarity</th>\n",
       "      <th>Last Name Similarity</th>\n",
       "    </tr>\n",
       "  </thead>\n",
       "  <tbody>\n",
       "    <tr>\n",
       "      <th>0</th>\n",
       "      <td>0</td>\n",
       "      <td>3.0</td>\n",
       "      <td>101.0</td>\n",
       "      <td>0.0</td>\n",
       "      <td>0.0</td>\n",
       "      <td>0.0</td>\n",
       "      <td>0.0</td>\n",
       "    </tr>\n",
       "    <tr>\n",
       "      <th>1</th>\n",
       "      <td>1</td>\n",
       "      <td>4.0</td>\n",
       "      <td>113.0</td>\n",
       "      <td>4.0</td>\n",
       "      <td>17.0</td>\n",
       "      <td>0.0</td>\n",
       "      <td>7.0</td>\n",
       "    </tr>\n",
       "    <tr>\n",
       "      <th>2</th>\n",
       "      <td>1</td>\n",
       "      <td>1.0</td>\n",
       "      <td>131.0</td>\n",
       "      <td>0.0</td>\n",
       "      <td>8.0</td>\n",
       "      <td>0.0</td>\n",
       "      <td>0.0</td>\n",
       "    </tr>\n",
       "    <tr>\n",
       "      <th>3</th>\n",
       "      <td>1</td>\n",
       "      <td>3.0</td>\n",
       "      <td>112.0</td>\n",
       "      <td>7.0</td>\n",
       "      <td>18.0</td>\n",
       "      <td>0.0</td>\n",
       "      <td>21.0</td>\n",
       "    </tr>\n",
       "    <tr>\n",
       "      <th>4</th>\n",
       "      <td>0</td>\n",
       "      <td>2.0</td>\n",
       "      <td>148.0</td>\n",
       "      <td>1.0</td>\n",
       "      <td>0.0</td>\n",
       "      <td>0.0</td>\n",
       "      <td>0.0</td>\n",
       "    </tr>\n",
       "  </tbody>\n",
       "</table>\n",
       "</div>"
      ],
      "text/plain": [
       "   Identity Match  Date of Birth Similarity  Address Similarity  \\\n",
       "0               0                       3.0               101.0   \n",
       "1               1                       4.0               113.0   \n",
       "2               1                       1.0               131.0   \n",
       "3               1                       3.0               112.0   \n",
       "4               0                       2.0               148.0   \n",
       "\n",
       "   ID Similarity  First Name Similarity  Middle Name Similarity  \\\n",
       "0            0.0                    0.0                     0.0   \n",
       "1            4.0                   17.0                     0.0   \n",
       "2            0.0                    8.0                     0.0   \n",
       "3            7.0                   18.0                     0.0   \n",
       "4            1.0                    0.0                     0.0   \n",
       "\n",
       "   Last Name Similarity  \n",
       "0                   0.0  \n",
       "1                   7.0  \n",
       "2                   0.0  \n",
       "3                  21.0  \n",
       "4                   0.0  "
      ]
     },
     "execution_count": 32,
     "metadata": {},
     "output_type": "execute_result"
    }
   ],
   "source": [
    "# Load training data from csv\n",
    "sampled_data = pd.read_csv('data/sampleunlabeledident.csv')\n",
    "\n",
    "# E Step for the Unsupervised Learning: Adds an Identity Match column and assigns either 0 or 1 to each row\n",
    "sampled_data['Identity Match'] = sampled_data.apply(lambda row: random.randint(0, 1), axis=1)\n",
    "\n",
    "sampled_data = sampled_data.loc[:,['Identity Match','Date of Birth Similarity','Address Similarity','ID Similarity','First Name Similarity','Middle Name Similarity','Last Name Similarity',]]\n",
    "sampled_data.head()"
   ]
  },
  {
   "cell_type": "code",
   "execution_count": 33,
   "metadata": {},
   "outputs": [
    {
     "data": {
      "text/plain": [
       "Index(['Identity Match', 'Date of Birth Similarity', 'Address Similarity',\n",
       "       'ID Similarity', 'First Name Similarity', 'Middle Name Similarity',\n",
       "       'Last Name Similarity'],\n",
       "      dtype='object')"
      ]
     },
     "execution_count": 33,
     "metadata": {},
     "output_type": "execute_result"
    }
   ],
   "source": [
    "sampled_data.columns"
   ]
  },
  {
   "cell_type": "code",
   "execution_count": 34,
   "metadata": {},
   "outputs": [
    {
     "data": {
      "text/plain": [
       "['Date of Birth Similarity',\n",
       " 'Address Similarity',\n",
       " 'ID Similarity',\n",
       " 'First Name Similarity',\n",
       " 'Middle Name Similarity',\n",
       " 'Last Name Similarity']"
      ]
     },
     "execution_count": 34,
     "metadata": {},
     "output_type": "execute_result"
    }
   ],
   "source": [
    "model.get_leaves()"
   ]
  },
  {
   "cell_type": "code",
   "execution_count": 35,
   "metadata": {},
   "outputs": [
    {
     "name": "stderr",
     "output_type": "stream",
     "text": [
      "  5%|▌         | 5/100 [06:24<2:01:36, 76.81s/it]\n"
     ]
    }
   ],
   "source": [
    "# Fit the model\n",
    "model.fit(sampled_data, estimator=ExpectationMaximization)"
   ]
  },
  {
   "cell_type": "code",
   "execution_count": null,
   "metadata": {},
   "outputs": [],
   "source": []
  }
 ],
 "metadata": {
  "kernelspec": {
   "display_name": "Python 3",
   "language": "python",
   "name": "python3"
  },
  "language_info": {
   "codemirror_mode": {
    "name": "ipython",
    "version": 3
   },
   "file_extension": ".py",
   "mimetype": "text/x-python",
   "name": "python",
   "nbconvert_exporter": "python",
   "pygments_lexer": "ipython3",
   "version": "3.11.4"
  },
  "orig_nbformat": 4
 },
 "nbformat": 4,
 "nbformat_minor": 2
}
