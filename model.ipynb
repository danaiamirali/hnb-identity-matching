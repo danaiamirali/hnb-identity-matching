{
 "cells": [
  {
   "attachments": {},
   "cell_type": "markdown",
   "metadata": {},
   "source": [
    "# Hierarchical Naive Bayes Model"
   ]
  },
  {
   "cell_type": "code",
   "execution_count": 1,
   "metadata": {},
   "outputs": [],
   "source": [
    "from pgmpy.models import BayesianNetwork\n",
    "from pgmpy.estimators import ExpectationMaximization\n",
    "from pgmpy.inference import BeliefPropagation\n",
    "import pandas as pd\n",
    "import random"
   ]
  },
  {
   "cell_type": "code",
   "execution_count": 2,
   "metadata": {},
   "outputs": [],
   "source": [
    "# Create the Hierarchical Naive Bayes model with latent structure\n",
    "model = BayesianNetwork(\n",
    "    ebunch=[\n",
    "        ('Name Match', 'Identity Match'),\n",
    "        ('DOB Match', 'Identity Match'),\n",
    "        ('Address Match', 'Identity Match'),\n",
    "        ('ID Match', 'Identity Match'),\n",
    "        ('First Name Match', 'Name Match'),\n",
    "        ('Middle Name Match', 'Name Match'),\n",
    "        ('Last Name Match', 'Name Match'),\n",
    "        ('Date of Birth Similarity', 'DOB Match'),\n",
    "        ('Address Similarity', 'Address Match'),\n",
    "        ('ID Similarity', 'ID Match'),\n",
    "        ('First Name Similarity', 'First Name Match'),\n",
    "        ('Middle Name Similarity', 'Middle Name Match'),\n",
    "        ('Last Name Similarity', 'Last Name Match')\n",
    "    ],\n",
    "    latents=['Name Match', 'DOB Match', 'Address Match', 'ID Match', 'First Name Match', 'Middle Name Match', 'Last Name Match']\n",
    ")"
   ]
  },
  {
   "cell_type": "code",
   "execution_count": 3,
   "metadata": {},
   "outputs": [],
   "source": [
    "# Load training data from csv\n",
    "sampled_data = pd.read_csv('data/sampleunlabeledident.csv')\n",
    "sampled_data = sampled_data.loc[:,['Date of Birth Similarity','Address Similarity','ID Similarity','First Name Similarity','Middle Name Similarity','Last Name Similarity',]]"
   ]
  },
  {
   "cell_type": "code",
   "execution_count": 7,
   "metadata": {},
   "outputs": [],
   "source": [
    "# If \"Identity Match\" column doesn't exist, create it and make it empty\n",
    "if 'Identity Match' not in sampled_data.columns:\n",
    "    sampled_data['Identity Match'] = pd.NA"
   ]
  },
  {
   "cell_type": "code",
   "execution_count": 9,
   "metadata": {},
   "outputs": [],
   "source": [
    "def assign_match(row):\n",
    "    # If the 'Identity Match' column is empty,\n",
    "    # then assign 0 or 1 \n",
    "    if pd.isnull(row['Identity Match']):\n",
    "        return random.randint(0, 1)\n",
    "    else:\n",
    "        return row['Identity Match']"
   ]
  },
  {
   "cell_type": "code",
   "execution_count": 10,
   "metadata": {},
   "outputs": [
    {
     "data": {
      "text/html": [
       "<div>\n",
       "<style scoped>\n",
       "    .dataframe tbody tr th:only-of-type {\n",
       "        vertical-align: middle;\n",
       "    }\n",
       "\n",
       "    .dataframe tbody tr th {\n",
       "        vertical-align: top;\n",
       "    }\n",
       "\n",
       "    .dataframe thead th {\n",
       "        text-align: right;\n",
       "    }\n",
       "</style>\n",
       "<table border=\"1\" class=\"dataframe\">\n",
       "  <thead>\n",
       "    <tr style=\"text-align: right;\">\n",
       "      <th></th>\n",
       "      <th>Date of Birth Similarity</th>\n",
       "      <th>Address Similarity</th>\n",
       "      <th>ID Similarity</th>\n",
       "      <th>First Name Similarity</th>\n",
       "      <th>Middle Name Similarity</th>\n",
       "      <th>Last Name Similarity</th>\n",
       "      <th>Identity Match</th>\n",
       "    </tr>\n",
       "  </thead>\n",
       "  <tbody>\n",
       "    <tr>\n",
       "      <th>0</th>\n",
       "      <td>3.0</td>\n",
       "      <td>96.0</td>\n",
       "      <td>0.0</td>\n",
       "      <td>6.0</td>\n",
       "      <td>16.0</td>\n",
       "      <td>0.0</td>\n",
       "      <td>0</td>\n",
       "    </tr>\n",
       "    <tr>\n",
       "      <th>1</th>\n",
       "      <td>1.0</td>\n",
       "      <td>88.0</td>\n",
       "      <td>1.0</td>\n",
       "      <td>6.0</td>\n",
       "      <td>0.0</td>\n",
       "      <td>0.0</td>\n",
       "      <td>1</td>\n",
       "    </tr>\n",
       "    <tr>\n",
       "      <th>2</th>\n",
       "      <td>2.0</td>\n",
       "      <td>10.0</td>\n",
       "      <td>0.0</td>\n",
       "      <td>0.0</td>\n",
       "      <td>16.0</td>\n",
       "      <td>8.0</td>\n",
       "      <td>0</td>\n",
       "    </tr>\n",
       "    <tr>\n",
       "      <th>3</th>\n",
       "      <td>4.0</td>\n",
       "      <td>113.0</td>\n",
       "      <td>1.0</td>\n",
       "      <td>8.0</td>\n",
       "      <td>0.0</td>\n",
       "      <td>19.0</td>\n",
       "      <td>0</td>\n",
       "    </tr>\n",
       "    <tr>\n",
       "      <th>4</th>\n",
       "      <td>2.0</td>\n",
       "      <td>110.0</td>\n",
       "      <td>0.0</td>\n",
       "      <td>0.0</td>\n",
       "      <td>0.0</td>\n",
       "      <td>5.0</td>\n",
       "      <td>1</td>\n",
       "    </tr>\n",
       "  </tbody>\n",
       "</table>\n",
       "</div>"
      ],
      "text/plain": [
       "   Date of Birth Similarity  Address Similarity  ID Similarity  \\\n",
       "0                       3.0                96.0            0.0   \n",
       "1                       1.0                88.0            1.0   \n",
       "2                       2.0                10.0            0.0   \n",
       "3                       4.0               113.0            1.0   \n",
       "4                       2.0               110.0            0.0   \n",
       "\n",
       "   First Name Similarity  Middle Name Similarity  Last Name Similarity  \\\n",
       "0                    6.0                    16.0                   0.0   \n",
       "1                    6.0                     0.0                   0.0   \n",
       "2                    0.0                    16.0                   8.0   \n",
       "3                    8.0                     0.0                  19.0   \n",
       "4                    0.0                     0.0                   5.0   \n",
       "\n",
       "   Identity Match  \n",
       "0               0  \n",
       "1               1  \n",
       "2               0  \n",
       "3               0  \n",
       "4               1  "
      ]
     },
     "execution_count": 10,
     "metadata": {},
     "output_type": "execute_result"
    }
   ],
   "source": [
    "# E Step for the Unsupervised Learning: Adds an Identity Match column and assigns either 0 or 1 to each row\n",
    "# sampled_data['Identity Match'] = sampled_data.apply(lambda row: random.randint(0, 1), axis=1)\n",
    "sampled_data['Identity Match'] = sampled_data.apply(lambda row: assign_match(row), axis=1)\n",
    "sampled_data.head()"
   ]
  },
  {
   "cell_type": "code",
   "execution_count": 11,
   "metadata": {},
   "outputs": [
    {
     "data": {
      "text/plain": [
       "1    11311\n",
       "0    11189\n",
       "Name: Identity Match, dtype: int64"
      ]
     },
     "execution_count": 11,
     "metadata": {},
     "output_type": "execute_result"
    }
   ],
   "source": [
    "sampled_data['Identity Match'].value_counts()"
   ]
  },
  {
   "cell_type": "code",
   "execution_count": 12,
   "metadata": {},
   "outputs": [
    {
     "data": {
      "text/plain": [
       "Index(['Date of Birth Similarity', 'Address Similarity', 'ID Similarity',\n",
       "       'First Name Similarity', 'Middle Name Similarity',\n",
       "       'Last Name Similarity', 'Identity Match'],\n",
       "      dtype='object')"
      ]
     },
     "execution_count": 12,
     "metadata": {},
     "output_type": "execute_result"
    }
   ],
   "source": [
    "sampled_data.columns"
   ]
  },
  {
   "cell_type": "code",
   "execution_count": 14,
   "metadata": {},
   "outputs": [
    {
     "data": {
      "text/plain": [
       "['Identity Match']"
      ]
     },
     "execution_count": 14,
     "metadata": {},
     "output_type": "execute_result"
    }
   ],
   "source": [
    "model.get_leaves()"
   ]
  },
  {
   "cell_type": "code",
   "execution_count": 11,
   "metadata": {},
   "outputs": [
    {
     "data": {
      "application/vnd.jupyter.widget-view+json": {
       "model_id": "8b838afa315045369d4f5206cd8fb5bc",
       "version_major": 2,
       "version_minor": 0
      },
      "text/plain": [
       "  0%|          | 0/100 [00:00<?, ?it/s]"
      ]
     },
     "metadata": {},
     "output_type": "display_data"
    }
   ],
   "source": [
    "# Fit the model\n",
    "model.fit(sampled_data, estimator=ExpectationMaximization)"
   ]
  },
  {
   "attachments": {},
   "cell_type": "markdown",
   "metadata": {},
   "source": [
    "### Make Predictions"
   ]
  },
  {
   "cell_type": "code",
   "execution_count": 12,
   "metadata": {},
   "outputs": [
    {
     "name": "stdout",
     "output_type": "stream",
     "text": [
      "Date of Birth Similarity      6.0\n",
      "Address Similarity          122.0\n",
      "ID Similarity                 9.0\n",
      "First Name Similarity        20.0\n",
      "Middle Name Similarity       16.0\n",
      "Last Name Similarity         24.0\n",
      "Identity Match                1.0\n",
      "dtype: float64\n"
     ]
    }
   ],
   "source": [
    "# print the max of each column\n",
    "print(sampled_data.max())"
   ]
  },
  {
   "cell_type": "code",
   "execution_count": 13,
   "metadata": {},
   "outputs": [
    {
     "name": "stdout",
     "output_type": "stream",
     "text": [
      "Date of Birth Similarity    0.0\n",
      "Address Similarity          1.0\n",
      "ID Similarity               0.0\n",
      "First Name Similarity       0.0\n",
      "Middle Name Similarity      0.0\n",
      "Last Name Similarity        0.0\n",
      "Identity Match              0.0\n",
      "dtype: float64\n"
     ]
    }
   ],
   "source": [
    "# print the min of each column\n",
    "print(sampled_data.min())"
   ]
  },
  {
   "attachments": {},
   "cell_type": "markdown",
   "metadata": {},
   "source": [
    "We can evaluate how the model is doing with some simple tests using belief propagation."
   ]
  },
  {
   "cell_type": "code",
   "execution_count": 14,
   "metadata": {},
   "outputs": [],
   "source": [
    "# Belief Propagation\n",
    "belief_propagation = BeliefPropagation(model)\n",
    "belief_propagation.calibrate()"
   ]
  },
  {
   "cell_type": "code",
   "execution_count": null,
   "metadata": {},
   "outputs": [],
   "source": [
    "for cpd in model.get_cpds():\n",
    "    print(cpd)"
   ]
  },
  {
   "attachments": {},
   "cell_type": "markdown",
   "metadata": {},
   "source": [
    "Some of the cells below may not work. The discretized values may differ each time the model is run. To view the different discretized values, look at the BIF file exported in the second to last cell."
   ]
  },
  {
   "cell_type": "code",
   "execution_count": 21,
   "metadata": {},
   "outputs": [
    {
     "data": {
      "text/plain": [
       "{'Identity Match': 0}"
      ]
     },
     "execution_count": 21,
     "metadata": {},
     "output_type": "execute_result"
    }
   ],
   "source": [
    "# Using highest possible similarity scores --> model returns match\n",
    "belief_propagation.map_query(variables=['Identity Match'], evidence={'Date of Birth Similarity': 6, 'Address Similarity': 122, 'ID Similarity': 9, 'First Name Similarity': 20, 'Middle Name Similarity': 16, 'Last Name Similarity': 24})"
   ]
  },
  {
   "cell_type": "code",
   "execution_count": 18,
   "metadata": {},
   "outputs": [
    {
     "data": {
      "text/plain": [
       "{'Identity Match': 0}"
      ]
     },
     "execution_count": 18,
     "metadata": {},
     "output_type": "execute_result"
    }
   ],
   "source": [
    "# Using lowest possible similarity scores --> model also returns match?\n",
    "belief_propagation.map_query(variables=['Identity Match'], evidence={'Date of Birth Similarity': 0, 'Address Similarity': 1, 'ID Similarity': 0, 'First Name Similarity': 0, 'Middle Name Similarity': 0, 'Last Name Similarity': 0})"
   ]
  },
  {
   "cell_type": "code",
   "execution_count": 19,
   "metadata": {},
   "outputs": [
    {
     "data": {
      "text/plain": [
       "{'Identity Match': 0}"
      ]
     },
     "execution_count": 19,
     "metadata": {},
     "output_type": "execute_result"
    }
   ],
   "source": [
    "# name and ID matches, but address and DOB do not match\n",
    "belief_propagation.map_query(variables=['Identity Match'], evidence={'Date of Birth Similarity': 0, 'Address Similarity': 1, 'ID Similarity': 8, 'First Name Similarity': 19, 'Middle Name Similarity': 14, 'Last Name Similarity': 23})"
   ]
  },
  {
   "attachments": {},
   "cell_type": "markdown",
   "metadata": {},
   "source": [
    "### Export Model"
   ]
  },
  {
   "attachments": {},
   "cell_type": "markdown",
   "metadata": {},
   "source": [
    "Exporting as a bif file is a friendly way to look at the model and evaluate how it is doing by looking at the conditional probabilities for each latent variable. If the probabilities do not make sense - e.g. the probability of identity match is the same between two completely different scenarios - then the model will not perform well.\n",
    "\n",
    "Exporting as an XML file is how we load the model in the prototype, or how it would get deployed elsewhere. In our experience, loading using a BIF file instead of XML would lead to strange errors."
   ]
  },
  {
   "cell_type": "code",
   "execution_count": 20,
   "metadata": {},
   "outputs": [],
   "source": [
    "model.save('model.bif', filetype='bif')"
   ]
  },
  {
   "cell_type": "code",
   "execution_count": 22,
   "metadata": {},
   "outputs": [],
   "source": [
    "from pgmpy.readwrite import XMLBIFWriter\n",
    "\n",
    "writer = XMLBIFWriter(model)\n",
    "writer.write_xmlbif('model.xml')"
   ]
  }
 ],
 "metadata": {
  "kernelspec": {
   "display_name": "Python 3",
   "language": "python",
   "name": "python3"
  },
  "language_info": {
   "codemirror_mode": {
    "name": "ipython",
    "version": 3
   },
   "file_extension": ".py",
   "mimetype": "text/x-python",
   "name": "python",
   "nbconvert_exporter": "python",
   "pygments_lexer": "ipython3",
   "version": "3.10.11"
  },
  "orig_nbformat": 4
 },
 "nbformat": 4,
 "nbformat_minor": 2
}
