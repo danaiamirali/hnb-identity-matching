{
 "cells": [
  {
   "attachments": {},
   "cell_type": "markdown",
   "metadata": {},
   "source": [
    "# Hierarchical Naive Bayes Model"
   ]
  },
  {
   "cell_type": "code",
   "execution_count": null,
   "metadata": {},
   "outputs": [],
   "source": [
    "from pgmpy.models import BayesianNetwork\n",
    "from pgmpy.estimators import ExpectationMaximization\n",
    "import pandas as pd"
   ]
  },
  {
   "cell_type": "code",
   "execution_count": 4,
   "metadata": {},
   "outputs": [],
   "source": [
    "# Create the Hierarchical Naive Bayes model with latent structure\n",
    "model = BayesianNetwork(\n",
    "    ebunch=[\n",
    "        ('Identity Match', 'Name Match'),\n",
    "        ('Identity Match', 'DOB Match'),\n",
    "        ('Identity Match', 'Address Match'),\n",
    "        ('Identity Match', 'ID Match'),\n",
    "        ('Name Match', 'First Name Match'),\n",
    "        ('Name Match', 'Middle Name Match'),\n",
    "        ('Name Match', 'Last Name Match'),\n",
    "        ('DOB Match', 'DOB Similarity'),\n",
    "        ('Address Match', 'Address Similarity'),\n",
    "        ('ID Match', 'ID Similarity'),\n",
    "        ('First Name Match', 'First Name Similarity'),\n",
    "        ('Middle Name Match', 'Middle Name Similarity'),\n",
    "        ('Last Name Match', 'Last Name Similarity')\n",
    "    ],\n",
    "    latents=['Name Match', 'DOB Match', 'Address Match', 'ID Match', 'First Name Match', 'Middle Name Match', 'Last Name Match']\n",
    ")"
   ]
  },
  {
   "cell_type": "code",
   "execution_count": null,
   "metadata": {},
   "outputs": [],
   "source": [
    "# Load training data\n",
    "sampled_data = pd.DataFrame()"
   ]
  },
  {
   "cell_type": "code",
   "execution_count": null,
   "metadata": {},
   "outputs": [],
   "source": [
    "# Fit the model\n",
    "model.fit(sampled_data, estimator=ExpectationMaximization)"
   ]
  }
 ],
 "metadata": {
  "kernelspec": {
   "display_name": "Python 3",
   "language": "python",
   "name": "python3"
  },
  "language_info": {
   "codemirror_mode": {
    "name": "ipython",
    "version": 3
   },
   "file_extension": ".py",
   "mimetype": "text/x-python",
   "name": "python",
   "nbconvert_exporter": "python",
   "pygments_lexer": "ipython3",
   "version": "3.11.4"
  },
  "orig_nbformat": 4
 },
 "nbformat": 4,
 "nbformat_minor": 2
}
